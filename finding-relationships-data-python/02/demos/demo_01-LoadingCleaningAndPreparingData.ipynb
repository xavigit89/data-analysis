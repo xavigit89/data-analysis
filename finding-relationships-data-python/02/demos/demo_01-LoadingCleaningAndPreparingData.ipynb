{
 "cells": [
  {
   "cell_type": "code",
   "execution_count": null,
   "id": "bearing-primary",
   "metadata": {},
   "outputs": [],
   "source": [
    "import matplotlib\n",
    "import pandas as pd\n",
    "\n",
    "import matplotlib.pyplot as plt"
   ]
  },
  {
   "cell_type": "code",
   "execution_count": null,
   "id": "attractive-healing",
   "metadata": {},
   "outputs": [],
   "source": [
    "crude_oil_data = pd.read_csv('datasets/U.S._crude_oil_production.csv')\n",
    "\n",
    "crude_oil_data.head(5)"
   ]
  },
  {
   "cell_type": "code",
   "execution_count": null,
   "id": "rough-canal",
   "metadata": {},
   "outputs": [],
   "source": [
    "crude_oil_data.tail()"
   ]
  },
  {
   "cell_type": "code",
   "execution_count": null,
   "id": "leading-economy",
   "metadata": {},
   "outputs": [],
   "source": [
    "crude_oil_data.shape"
   ]
  },
  {
   "cell_type": "code",
   "execution_count": null,
   "id": "beginning-girlfriend",
   "metadata": {},
   "outputs": [],
   "source": [
    "crude_oil_data.columns"
   ]
  },
  {
   "cell_type": "code",
   "execution_count": null,
   "id": "driving-affair",
   "metadata": {},
   "outputs": [],
   "source": [
    "crude_oil_data.columns[crude_oil_data.sum(axis=0) == 0]"
   ]
  },
  {
   "cell_type": "code",
   "execution_count": null,
   "id": "headed-hanging",
   "metadata": {},
   "outputs": [],
   "source": [
    "crude_oil_data.drop(['Arizona', 'Virginia'], inplace=True, axis=1)\n",
    "\n",
    "crude_oil_data.columns"
   ]
  },
  {
   "cell_type": "code",
   "execution_count": null,
   "id": "considerable-cisco",
   "metadata": {},
   "outputs": [],
   "source": [
    "crude_oil_data['Date'] = pd.to_datetime(crude_oil_data['Month'])\n",
    "\n",
    "crude_oil_data['Date'].head()"
   ]
  },
  {
   "cell_type": "code",
   "execution_count": null,
   "id": "pacific-place",
   "metadata": {},
   "outputs": [],
   "source": [
    "crude_oil_data.drop('Month', inplace=True, axis=1)\n",
    "\n",
    "crude_oil_data.columns"
   ]
  },
  {
   "cell_type": "code",
   "execution_count": null,
   "id": "ethical-anthropology",
   "metadata": {},
   "outputs": [],
   "source": [
    "crude_oil_data = crude_oil_data.rename(columns={'Federal Offshore Gulf of Mexico Crude Oil': 'Mexico', 'Federal Offshore Pacific Crude Oil': 'Pacific'})\n",
    "\n",
    "crude_oil_data.columns"
   ]
  },
  {
   "cell_type": "code",
   "execution_count": null,
   "id": "proper-average",
   "metadata": {},
   "outputs": [],
   "source": [
    "crude_oil_data['Year'] = crude_oil_data['Date'].dt.year\n",
    "\n",
    "crude_oil_data['Year'].sample(10)"
   ]
  },
  {
   "cell_type": "code",
   "execution_count": null,
   "id": "rotary-villa",
   "metadata": {},
   "outputs": [],
   "source": [
    "crude_oil_data['Month'] = crude_oil_data['Date'].dt.month\n",
    "\n",
    "crude_oil_data['Month'].sample(10)"
   ]
  },
  {
   "cell_type": "code",
   "execution_count": null,
   "id": "naked-mandate",
   "metadata": {},
   "outputs": [],
   "source": [
    "crude_oil_data.to_csv('datasets/crude_oil_data_processed.csv', index=False)"
   ]
  },
  {
   "cell_type": "code",
   "execution_count": null,
   "id": "descending-tulsa",
   "metadata": {},
   "outputs": [],
   "source": [
    "crude_oil_data.describe()"
   ]
  }
 ],
 "metadata": {
  "kernelspec": {
   "display_name": "Python 3",
   "language": "python",
   "name": "python3"
  },
  "language_info": {
   "codemirror_mode": {
    "name": "ipython",
    "version": 3
   },
   "file_extension": ".py",
   "mimetype": "text/x-python",
   "name": "python",
   "nbconvert_exporter": "python",
   "pygments_lexer": "ipython3",
   "version": "3.8.5"
  }
 },
 "nbformat": 4,
 "nbformat_minor": 5
}
