{
 "cells": [
  {
   "cell_type": "code",
   "execution_count": null,
   "id": "continent-circumstances",
   "metadata": {},
   "outputs": [],
   "source": [
    "import matplotlib\n",
    "import pandas as pd\n",
    "\n",
    "import matplotlib.pyplot as plt"
   ]
  },
  {
   "cell_type": "code",
   "execution_count": null,
   "id": "still-collapse",
   "metadata": {},
   "outputs": [],
   "source": [
    "crude_oil_data = pd.read_csv('datasets/crude_oil_data_processed.csv')\n",
    "crude_oil_data.head()"
   ]
  },
  {
   "cell_type": "code",
   "execution_count": null,
   "id": "general-terror",
   "metadata": {},
   "outputs": [],
   "source": [
    "crude_oil_data['Date'] = pd.to_datetime(crude_oil_data['Date'])\n",
    "crude_oil_data['Date'].head()"
   ]
  },
  {
   "cell_type": "code",
   "execution_count": null,
   "id": "structural-revision",
   "metadata": {},
   "outputs": [],
   "source": [
    "crude_oil_data.plot(x='Date', y='U.S. Crude Oil ', figsize=(12, 8), color='brown')"
   ]
  },
  {
   "cell_type": "code",
   "execution_count": null,
   "id": "tight-champagne",
   "metadata": {},
   "outputs": [],
   "source": [
    "crude_oil_data.boxplot('U.S. Crude Oil ', figsize=(12, 8))\n",
    "plt.ylabel('Production')\n",
    "plt.title('U.S. Crude Oil Production')"
   ]
  },
  {
   "cell_type": "code",
   "execution_count": null,
   "id": "velvet-helen",
   "metadata": {
    "scrolled": true
   },
   "outputs": [],
   "source": [
    "crude_oil_data[['California']].boxplot(figsize=(12, 8))\n",
    "plt.ylabel('Production in California')\n",
    "plt.title('California Crude Oil Production')"
   ]
  },
  {
   "cell_type": "code",
   "execution_count": null,
   "id": "stuffed-withdrawal",
   "metadata": {
    "scrolled": true
   },
   "outputs": [],
   "source": [
    "crude_oil_data[['Alaska', 'California']].boxplot(figsize=(12, 8))\n",
    "plt.ylabel('Production in Alaska, California')\n",
    "plt.title('Alaska, California Crude Oil Production')"
   ]
  },
  {
   "cell_type": "code",
   "execution_count": null,
   "id": "intimate-bidder",
   "metadata": {
    "scrolled": false
   },
   "outputs": [],
   "source": [
    "crude_oil_data.boxplot(column='U.S. Crude Oil ', by=['Year'], figsize=(12, 8))\n",
    "plt.ylabel('Production')\n",
    "plt.title('U.S. Crude Oil Production')"
   ]
  },
  {
   "cell_type": "code",
   "execution_count": null,
   "id": "quarterly-coalition",
   "metadata": {},
   "outputs": [],
   "source": [
    "year_data = crude_oil_data.groupby('Year', as_index=False).sum()\n",
    "year_data[['Year', 'U.S. Crude Oil ']]"
   ]
  },
  {
   "cell_type": "code",
   "execution_count": null,
   "id": "described-volunteer",
   "metadata": {},
   "outputs": [],
   "source": [
    "colors = ['C0', 'C1', 'C2', 'C3', 'C4', 'C5', 'C6', 'C7', 'C8', 'C9']\n",
    "year_data.plot.bar(x='Year', y='U.S. Crude Oil ', figsize=(12,8), color=colors, legend=False)\n",
    "plt.ylabel('Production')\n",
    "plt.title('U.S. Crude Oil Production')"
   ]
  },
  {
   "cell_type": "code",
   "execution_count": null,
   "id": "material-concrete",
   "metadata": {},
   "outputs": [],
   "source": [
    "mean_prod_data = crude_oil_data.mean()[1:-3]\n",
    "\n",
    "mean_prod_data"
   ]
  },
  {
   "cell_type": "code",
   "execution_count": null,
   "id": "surprising-turning",
   "metadata": {},
   "outputs": [],
   "source": [
    "mean_prod_data = mean_prod_data.sort_values(ascending=False)\n",
    "mean_prod_data"
   ]
  },
  {
   "cell_type": "code",
   "execution_count": null,
   "id": "announced-blood",
   "metadata": {},
   "outputs": [],
   "source": [
    "mean_prod_df = pd.DataFrame(mean_prod_data).reset_index()\n",
    "mean_prod_df.columns = ['State', 'Production']\n",
    "mean_prod_df.head(10)"
   ]
  },
  {
   "cell_type": "code",
   "execution_count": null,
   "id": "judicial-rotation",
   "metadata": {},
   "outputs": [],
   "source": [
    "plt.figure(figsize=(12,8))\n",
    "plt.bar(mean_prod_df['State'], mean_prod_df['Production'], width=0.85)\n",
    "plt.title('U.S. Oil Mean-Production June 2008 to June 2018')\n",
    "\n",
    "plt.xticks(rotation=90)\n",
    "plt.xlabel('State')\n",
    "\n",
    "plt.ylabel('Production')\n",
    "plt.show()"
   ]
  },
  {
   "cell_type": "code",
   "execution_count": null,
   "id": "conscious-borough",
   "metadata": {},
   "outputs": [],
   "source": [
    "mean_prod_df['Production'].plot.kde(figsize=(12, 8))\n",
    "plt.title('U.S. Oil Production June 2008 to June 2018')\n",
    "plt.xlabel('Oil Production')\n",
    "\n",
    "plt.show()"
   ]
  },
  {
   "cell_type": "code",
   "execution_count": null,
   "id": "revised-trinity",
   "metadata": {},
   "outputs": [],
   "source": [
    "plt.figure(figsize=(12, 8))\n",
    "plt.scatter(crude_oil_data['Texas'], crude_oil_data['U.S. Crude Oil '], c='g')\n",
    "\n",
    "plt.xlabel('U.S. Production')\n",
    "plt.ylabel('Texas Production')\n",
    "\n",
    "plt.show()"
   ]
  },
  {
   "cell_type": "code",
   "execution_count": null,
   "id": "affiliated-journalist",
   "metadata": {},
   "outputs": [],
   "source": [
    "plt.figure(figsize=(12, 8))\n",
    "plt.scatter(crude_oil_data['California'], crude_oil_data['U.S. Crude Oil '], c='g')\n",
    "\n",
    "plt.xlabel('U.S. Production')\n",
    "plt.ylabel('California Production')\n",
    "\n",
    "plt.show()"
   ]
  },
  {
   "cell_type": "code",
   "execution_count": null,
   "id": "exact-genre",
   "metadata": {},
   "outputs": [],
   "source": [
    "plt.figure(figsize=(12, 8))\n",
    "plt.scatter(crude_oil_data['Michigan'], crude_oil_data['U.S. Crude Oil '], c='g')\n",
    "\n",
    "plt.xlabel('U.S. Production')\n",
    "plt.ylabel('Michigan Production')\n",
    "\n",
    "plt.show()"
   ]
  }
 ],
 "metadata": {
  "kernelspec": {
   "display_name": "Python 3",
   "language": "python",
   "name": "python3"
  },
  "language_info": {
   "codemirror_mode": {
    "name": "ipython",
    "version": 3
   },
   "file_extension": ".py",
   "mimetype": "text/x-python",
   "name": "python",
   "nbconvert_exporter": "python",
   "pygments_lexer": "ipython3",
   "version": "3.8.5"
  }
 },
 "nbformat": 4,
 "nbformat_minor": 5
}
