{
 "cells": [
  {
   "cell_type": "code",
   "execution_count": null,
   "id": "conventional-lemon",
   "metadata": {},
   "outputs": [],
   "source": [
    "import numpy as np\n",
    "import pandas as pd\n",
    "import matplotlib.pyplot as plt\n",
    "\n",
    "from scipy.stats import pearsonr, spearmanr"
   ]
  },
  {
   "cell_type": "code",
   "execution_count": null,
   "id": "artificial-basketball",
   "metadata": {},
   "outputs": [],
   "source": [
    "bikesharing_data = pd.read_csv('datasets/bike_sharing_daily.csv', index_col=0)\n",
    "bikesharing_data.head(5)"
   ]
  },
  {
   "cell_type": "code",
   "execution_count": null,
   "id": "robust-layout",
   "metadata": {},
   "outputs": [],
   "source": [
    "bikesharing_data.shape"
   ]
  },
  {
   "cell_type": "code",
   "execution_count": null,
   "id": "abandoned-training",
   "metadata": {},
   "outputs": [],
   "source": [
    "bikesharing_data.columns"
   ]
  },
  {
   "cell_type": "code",
   "execution_count": null,
   "id": "focal-drove",
   "metadata": {},
   "outputs": [],
   "source": [
    "bikesharing_data['dteday'] = pd.DatetimeIndex(bikesharing_data['dteday'])"
   ]
  },
  {
   "cell_type": "code",
   "execution_count": null,
   "id": "listed-government",
   "metadata": {},
   "outputs": [],
   "source": [
    "np.corrcoef(bikesharing_data['temp'], bikesharing_data['cnt'])"
   ]
  },
  {
   "cell_type": "code",
   "execution_count": null,
   "id": "cosmetic-helping",
   "metadata": {},
   "outputs": [],
   "source": [
    "bikesharing_data['temp'].corr(bikesharing_data['cnt'])"
   ]
  },
  {
   "cell_type": "markdown",
   "id": "brazilian-space",
   "metadata": {},
   "source": [
    "**pearsonr (default):**\n",
    "Returns:\n",
    "1. Pearson Correlation Coefficient: linear relationship between two **continuous** variables.\n",
    "2. From [the documentation](https://docs.scipy.org/doc/scipy/reference/generated/scipy.stats.pearsonr.html):\n",
    "  > The p-value roughly indicates the probability of an uncorrelated system producing datasets that have a Pearson correlation at least as extreme as the one computed from these datasets."
   ]
  },
  {
   "cell_type": "code",
   "execution_count": null,
   "id": "accredited-secretariat",
   "metadata": {},
   "outputs": [],
   "source": [
    "pearsonr(bikesharing_data['temp'], bikesharing_data['cnt'])"
   ]
  },
  {
   "cell_type": "markdown",
   "id": "directed-alexander",
   "metadata": {},
   "source": [
    "**spearmanr (default):**\n",
    "Returns:\n",
    "1. Spearman Correlation Coefficient:\n",
    " - Based on the range of variables, instead of raw values.\n",
    " - Used with ordinal data (**discrete** values).\n",
    "2. From [the documentation](https://docs.scipy.org/doc/scipy/reference/generated/scipy.stats.spearmanr.html):\n",
    "  > The p-value roughly indicates the probability of an uncorrelated system producing datasets that have a Spearman correlation at least as extreme as the one computed from these datasets. The p-values are not entirely reliable but are probably reasonable for datasets larger than 500 or so."
   ]
  },
  {
   "cell_type": "code",
   "execution_count": null,
   "id": "grand-police",
   "metadata": {},
   "outputs": [],
   "source": [
    "spearmanr(bikesharing_data['temp'], bikesharing_data['cnt'])"
   ]
  },
  {
   "cell_type": "markdown",
   "id": "employed-express",
   "metadata": {},
   "source": [
    "For more information about Statistical Significance, including the terms *p-value*, *level of significance*, and *hypothesis testing*, visit [this Brilling.org wiki page](https://brilliant.org/wiki/statistical-significance/)."
   ]
  },
  {
   "cell_type": "code",
   "execution_count": null,
   "id": "lasting-midwest",
   "metadata": {},
   "outputs": [],
   "source": [
    "plt.figure(figsize=(12, 8))\n",
    "plt.scatter(bikesharing_data['temp'],\n",
    "            bikesharing_data['cnt'], color='m')\n",
    "plt.title('Bike Sharing Daily')\n",
    "\n",
    "plt.xlabel('Temperature')\n",
    "plt.ylabel('Count')\n",
    "\n",
    "plt.show()"
   ]
  },
  {
   "cell_type": "code",
   "execution_count": null,
   "id": "ranging-cheat",
   "metadata": {},
   "outputs": [],
   "source": [
    "np.corrcoef(bikesharing_data['workingday'],\n",
    "            bikesharing_data['registered'])"
   ]
  },
  {
   "cell_type": "code",
   "execution_count": null,
   "id": "applicable-chemical",
   "metadata": {},
   "outputs": [],
   "source": [
    "bikesharing_data['workingday'].corr(bikesharing_data['registered'])"
   ]
  },
  {
   "cell_type": "code",
   "execution_count": null,
   "id": "studied-characteristic",
   "metadata": {},
   "outputs": [],
   "source": [
    "pearsonr(bikesharing_data['workingday'],\n",
    "         bikesharing_data['registered'])"
   ]
  },
  {
   "cell_type": "code",
   "execution_count": null,
   "id": "british-estate",
   "metadata": {},
   "outputs": [],
   "source": [
    "spearmanr(bikesharing_data['workingday'],\n",
    "          bikesharing_data['registered'])"
   ]
  },
  {
   "cell_type": "code",
   "execution_count": null,
   "id": "standard-belfast",
   "metadata": {},
   "outputs": [],
   "source": [
    "ax = plt.subplot()\n",
    "\n",
    "bikesharing_data.groupby('workingday').max()['registered'].plot(kind='bar',\n",
    "                                                                figsize=(12, 8),\n",
    "                                                                ax = ax,\n",
    "                                                                color=['r', 'c'])\n",
    "plt.title('Registered Users')\n",
    "plt.ylabel('Count of Registered Users')\n",
    "\n",
    "plt.show()"
   ]
  },
  {
   "cell_type": "code",
   "execution_count": null,
   "id": "loving-whole",
   "metadata": {},
   "outputs": [],
   "source": [
    "ax = plt.subplot()\n",
    "\n",
    "bikesharing_data.groupby('workingday').max()['casual'].plot(kind='bar',\n",
    "                                                            figsize=(12, 8),\n",
    "                                                            ax = ax,\n",
    "                                                            color=['b', 'y'])\n",
    "plt.title('Casual Users')\n",
    "plt.ylabel('Count of Casual Users')\n",
    "\n",
    "plt.show()"
   ]
  },
  {
   "cell_type": "code",
   "execution_count": null,
   "id": "unique-reply",
   "metadata": {},
   "outputs": [],
   "source": [
    "np.corrcoef(bikesharing_data['windspeed'],\n",
    "            bikesharing_data['cnt'])"
   ]
  },
  {
   "cell_type": "code",
   "execution_count": null,
   "id": "balanced-priority",
   "metadata": {},
   "outputs": [],
   "source": [
    "bikesharing_data['windspeed'].corr(bikesharing_data['cnt'])"
   ]
  },
  {
   "cell_type": "code",
   "execution_count": null,
   "id": "extensive-senator",
   "metadata": {},
   "outputs": [],
   "source": [
    "pearsonr(bikesharing_data['windspeed'],\n",
    "         bikesharing_data['cnt'])"
   ]
  },
  {
   "cell_type": "code",
   "execution_count": null,
   "id": "double-bullet",
   "metadata": {},
   "outputs": [],
   "source": [
    "spearmanr(bikesharing_data['windspeed'],\n",
    "          bikesharing_data['cnt'])"
   ]
  },
  {
   "cell_type": "code",
   "execution_count": null,
   "id": "comic-spanish",
   "metadata": {},
   "outputs": [],
   "source": [
    "plt.figure(figsize=(12,9))\n",
    "\n",
    "plt.scatter(bikesharing_data['windspeed'],\n",
    "            bikesharing_data['cnt'],\n",
    "            color='limegreen')\n",
    "\n",
    "plt.title('Bike Sharing Daily')\n",
    "plt.xlabel('Windspeed')\n",
    "plt.ylabel('Count')\n",
    "\n",
    "plt.show()"
   ]
  },
  {
   "cell_type": "markdown",
   "id": "demanding-webster",
   "metadata": {},
   "source": [
    "## Correlation Matrix"
   ]
  },
  {
   "cell_type": "code",
   "execution_count": null,
   "id": "continued-monday",
   "metadata": {},
   "outputs": [],
   "source": [
    "bikesharing_data.corr()"
   ]
  },
  {
   "cell_type": "markdown",
   "id": "appropriate-kernel",
   "metadata": {},
   "source": [
    "### Visualization\n",
    "#### Using heatmaps"
   ]
  },
  {
   "cell_type": "code",
   "execution_count": null,
   "id": "minute-arnold",
   "metadata": {},
   "outputs": [],
   "source": [
    "plt.figure(figsize=(12, 8))\n",
    "\n",
    "plt.matshow(bikesharing_data.corr(),\n",
    "            fignum=False,\n",
    "            aspect='equal')\n",
    "\n",
    "columns = len(bikesharing_data.columns)\n",
    "plt.xticks(range(columns), bikesharing_data.columns)\n",
    "plt.yticks(range(columns), bikesharing_data.columns)\n",
    "\n",
    "plt.colorbar()\n",
    "plt.xticks(rotation=90)\n",
    "plt.title('Correlations', y=1.2)\n",
    "\n",
    "plt.show()"
   ]
  },
  {
   "cell_type": "code",
   "execution_count": null,
   "id": "focused-electric",
   "metadata": {},
   "outputs": [],
   "source": [
    "#### Using yellowbrick"
   ]
  },
  {
   "cell_type": "code",
   "execution_count": null,
   "id": "collectible-drawing",
   "metadata": {},
   "outputs": [],
   "source": [
    "!pip install yellowbrick"
   ]
  },
  {
   "cell_type": "code",
   "execution_count": null,
   "id": "subject-river",
   "metadata": {},
   "outputs": [],
   "source": [
    "target = bikesharing_data['cnt']\n",
    "\n",
    "features = bikesharing_data.drop(['casual', 'registered', 'cnt', 'dteday'], axis=1)"
   ]
  },
  {
   "cell_type": "code",
   "execution_count": null,
   "id": "knowing-escape",
   "metadata": {},
   "outputs": [],
   "source": [
    "from yellowbrick.target import FeatureCorrelation\n",
    "\n",
    "feature_names = list(features.columns)\n",
    "feature_names"
   ]
  },
  {
   "cell_type": "code",
   "execution_count": null,
   "id": "arbitrary-buyer",
   "metadata": {},
   "outputs": [],
   "source": [
    "visualizer = FeatureCorrelation(labels = feature_names)\n",
    "visualizer.fit(features, target)\n",
    "\n",
    "visualizer.poof()"
   ]
  }
 ],
 "metadata": {
  "kernelspec": {
   "display_name": "Python 3",
   "language": "python",
   "name": "python3"
  },
  "language_info": {
   "codemirror_mode": {
    "name": "ipython",
    "version": 3
   },
   "file_extension": ".py",
   "mimetype": "text/x-python",
   "name": "python",
   "nbconvert_exporter": "python",
   "pygments_lexer": "ipython3",
   "version": "3.8.5"
  }
 },
 "nbformat": 4,
 "nbformat_minor": 5
}
