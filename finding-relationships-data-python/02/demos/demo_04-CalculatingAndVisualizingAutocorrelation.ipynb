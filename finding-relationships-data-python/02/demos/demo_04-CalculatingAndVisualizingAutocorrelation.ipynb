{
 "cells": [
  {
   "cell_type": "code",
   "execution_count": null,
   "id": "blind-timber",
   "metadata": {},
   "outputs": [],
   "source": [
    "import numpy as np\n",
    "import pandas as pd\n",
    "import matplotlib.pyplot as plt"
   ]
  },
  {
   "cell_type": "code",
   "execution_count": null,
   "id": "hungarian-advancement",
   "metadata": {},
   "outputs": [],
   "source": [
    "bikesharing_data = pd.read_csv('datasets/bike_sharing_hourly.csv', index_col=0)\n",
    "\n",
    "bikesharing_data.head(10)"
   ]
  },
  {
   "cell_type": "code",
   "execution_count": null,
   "id": "bizarre-germany",
   "metadata": {},
   "outputs": [],
   "source": [
    "bikesharing_data[['temp', 'hum']].describe()"
   ]
  },
  {
   "cell_type": "code",
   "execution_count": null,
   "id": "transparent-blackberry",
   "metadata": {},
   "outputs": [],
   "source": [
    "bikesharing_data[['temp', 'hum']].corr()"
   ]
  },
  {
   "cell_type": "markdown",
   "id": "active-quality",
   "metadata": {},
   "source": [
    "## Temperature Autocorrelation\n",
    "Compare current temperature with temperature from N time periods ago (N hours)."
   ]
  },
  {
   "cell_type": "code",
   "execution_count": null,
   "id": "australian-matter",
   "metadata": {},
   "outputs": [],
   "source": [
    "bikesharing_data['temp'].autocorr(lag=2)"
   ]
  },
  {
   "cell_type": "code",
   "execution_count": null,
   "id": "conventional-sitting",
   "metadata": {},
   "outputs": [],
   "source": [
    "bikesharing_data['temp'].autocorr(lag=12)"
   ]
  },
  {
   "cell_type": "code",
   "execution_count": null,
   "id": "acquired-calculator",
   "metadata": {},
   "outputs": [],
   "source": [
    "bikesharing_data['temp'].autocorr(lag=102)"
   ]
  },
  {
   "cell_type": "code",
   "execution_count": null,
   "id": "linear-junction",
   "metadata": {},
   "outputs": [],
   "source": [
    "bikesharing_data['temp'].autocorr(lag=1002)"
   ]
  },
  {
   "cell_type": "markdown",
   "id": "vietnamese-diamond",
   "metadata": {},
   "source": [
    "## Humidity Autocorrelation"
   ]
  },
  {
   "cell_type": "markdown",
   "id": "korean-medication",
   "metadata": {},
   "source": [
    "Humidity changes considerable, for example, between day and night."
   ]
  },
  {
   "cell_type": "code",
   "execution_count": null,
   "id": "neural-length",
   "metadata": {
    "scrolled": true
   },
   "outputs": [],
   "source": [
    "bikesharing_data['hum'].autocorr(lag=12)"
   ]
  },
  {
   "cell_type": "code",
   "execution_count": null,
   "id": "normal-metadata",
   "metadata": {},
   "outputs": [],
   "source": [
    "fig, (ax1, ax2) = plt.subplots(2, 1, figsize=(12, 14))\n",
    "\n",
    "ax1.acorr(bikesharing_data['temp'],\n",
    "          maxlags=12,\n",
    "          color='green')\n",
    "ax1.title.set_text('Temperature')\n",
    "ax1.set_xlabel('Lags', fontsize=15)\n",
    "\n",
    "ax2.acorr(bikesharing_data['hum'],\n",
    "          maxlags=12,\n",
    "          color='red')\n",
    "ax2.title.set_text('Humidity')\n",
    "ax2.set_xlabel('Lags', fontsize=15)\n",
    "\n",
    "plt.show()"
   ]
  },
  {
   "cell_type": "markdown",
   "id": "humanitarian-swing",
   "metadata": {},
   "source": [
    "**Is the temperature at the same time today correlated with temperature at the same time yesterday?**"
   ]
  },
  {
   "cell_type": "code",
   "execution_count": null,
   "id": "grand-substitute",
   "metadata": {},
   "outputs": [],
   "source": [
    "bikesharing_data['temp'].autocorr(lag=24)"
   ]
  },
  {
   "cell_type": "markdown",
   "id": "induced-anxiety",
   "metadata": {},
   "source": [
    "**Is the humidity at the same time today correlated with humidity at the same time yesterday?**"
   ]
  },
  {
   "cell_type": "code",
   "execution_count": null,
   "id": "approved-basics",
   "metadata": {},
   "outputs": [],
   "source": [
    "bikesharing_data['hum'].autocorr(lag=24)"
   ]
  },
  {
   "cell_type": "code",
   "execution_count": null,
   "id": "curious-treat",
   "metadata": {},
   "outputs": [],
   "source": [
    "fig, (ax1, ax2) = plt.subplots(1, 2, figsize=(20, 8))\n",
    "\n",
    "ax1.acorr(bikesharing_data['temp'],\n",
    "          maxlags=24,\n",
    "          color='deeppink')\n",
    "ax1.title.set_text('Temperature')\n",
    "ax1.set_xlabel('Lags', fontsize=12)\n",
    "\n",
    "ax2.acorr(bikesharing_data['hum'],\n",
    "          maxlags=24,\n",
    "          color='blue')\n",
    "ax2.title.set_text('Humidity')\n",
    "ax2.set_xlabel('Lags', fontsize=12)\n",
    "\n",
    "plt.suptitle('Autocorrelation')\n",
    "\n",
    "plt.plot()"
   ]
  },
  {
   "cell_type": "markdown",
   "id": "active-museum",
   "metadata": {},
   "source": [
    "**What about a 2 days lag?**"
   ]
  },
  {
   "cell_type": "code",
   "execution_count": null,
   "id": "latter-productivity",
   "metadata": {},
   "outputs": [],
   "source": [
    "fig, (ax1, ax2) = plt.subplots(1, 2, figsize=(20, 8))\n",
    "\n",
    "ax1.acorr(bikesharing_data['temp'],\n",
    "          maxlags=48,\n",
    "          color='red')\n",
    "ax1.title.set_text('Temperature')\n",
    "ax1.set_xlabel('Lags', fontsize=12)\n",
    "\n",
    "ax2.acorr(bikesharing_data['hum'],\n",
    "          maxlags=48,\n",
    "          color='black')\n",
    "ax2.title.set_text('Humidity')\n",
    "ax2.set_xlabel('Lags', fontsize=12)\n",
    "\n",
    "plt.suptitle('Autocorrelation')\n",
    "\n",
    "plt.plot()"
   ]
  },
  {
   "cell_type": "code",
   "execution_count": null,
   "id": "quantitative-douglas",
   "metadata": {},
   "outputs": [],
   "source": []
  }
 ],
 "metadata": {
  "kernelspec": {
   "display_name": "Python 3",
   "language": "python",
   "name": "python3"
  },
  "language_info": {
   "codemirror_mode": {
    "name": "ipython",
    "version": 3
   },
   "file_extension": ".py",
   "mimetype": "text/x-python",
   "name": "python",
   "nbconvert_exporter": "python",
   "pygments_lexer": "ipython3",
   "version": "3.8.5"
  }
 },
 "nbformat": 4,
 "nbformat_minor": 5
}
