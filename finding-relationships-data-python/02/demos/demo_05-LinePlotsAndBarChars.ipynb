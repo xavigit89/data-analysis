{
 "cells": [
  {
   "cell_type": "code",
   "execution_count": null,
   "id": "geographic-williams",
   "metadata": {},
   "outputs": [],
   "source": [
    "import pandas as pd\n",
    "import matplotlib.pyplot as plt\n",
    "\n",
    "# To be able to work with datetime data:\n",
    "from pandas.plotting import register_matplotlib_converters\n",
    "register_matplotlib_converters()"
   ]
  },
  {
   "cell_type": "code",
   "execution_count": null,
   "id": "separated-eugene",
   "metadata": {},
   "outputs": [],
   "source": [
    "bikesharing_data = pd.read_csv('datasets/bike_sharing_daily.csv', index_col=0)\n",
    "\n",
    "bikesharing_data.head(5)"
   ]
  },
  {
   "cell_type": "code",
   "execution_count": null,
   "id": "intelligent-concept",
   "metadata": {},
   "outputs": [],
   "source": [
    "bikesharing_data['dteday'] = pd.DatetimeIndex(bikesharing_data['dteday'])"
   ]
  },
  {
   "cell_type": "code",
   "execution_count": null,
   "id": "instant-scroll",
   "metadata": {},
   "outputs": [],
   "source": [
    "plt.figure(figsize=(20,8))\n",
    "\n",
    "plt.plot(bikesharing_data['dteday'],\n",
    "         bikesharing_data['registered'],\n",
    "         color='b',\n",
    "         label='registered')\n",
    "\n",
    "plt.plot(bikesharing_data['dteday'],\n",
    "         bikesharing_data['casual'],\n",
    "         color='r',\n",
    "         label='casual')\n",
    "\n",
    "plt.legend(loc='upper left')\n",
    "\n",
    "plt.title('Bike Sharing Users')\n",
    "plt.xlabel('Date')\n",
    "plt.ylabel('Counts of Bike Rentals')\n",
    "\n",
    "plt.show()"
   ]
  },
  {
   "cell_type": "code",
   "execution_count": null,
   "id": "primary-acceptance",
   "metadata": {},
   "outputs": [],
   "source": [
    "year_df = bikesharing_data.groupby('yr', as_index=False).mean()\n",
    "\n",
    "year_df[['yr', 'cnt']]"
   ]
  },
  {
   "cell_type": "code",
   "execution_count": null,
   "id": "outside-court",
   "metadata": {},
   "outputs": [],
   "source": [
    "plt.figure(figsize=(12, 8))\n",
    "\n",
    "colors = ['b', 'm']\n",
    "\n",
    "plt.bar(year_df['yr'],\n",
    "        year_df['cnt'],\n",
    "        width=0.2,\n",
    "        color=colors)\n",
    "\n",
    "plt.xticks([0, 1], ['2011', '2012'])\n",
    "\n",
    "plt.title('Bike Sharing Daily')\n",
    "plt.xlabel('year')\n",
    "plt.ylabel('mean count')\n",
    "\n",
    "plt.show()"
   ]
  },
  {
   "cell_type": "code",
   "execution_count": null,
   "id": "outer-species",
   "metadata": {},
   "outputs": [],
   "source": [
    "days = bikesharing_data.groupby('workingday', as_index=False).mean()\n",
    "days[['cnt']]"
   ]
  },
  {
   "cell_type": "code",
   "execution_count": null,
   "id": "bigger-spare",
   "metadata": {},
   "outputs": [],
   "source": [
    "plt.figure(figsize=(12, 8))\n",
    "\n",
    "plt.bar(days['workingday'],\n",
    "        days['cnt'],\n",
    "        width=0.2,\n",
    "        color=['red', 'limegreen'])\n",
    "\n",
    "plt.xticks([0, 1], ['Holiday', 'Working day'])\n",
    "\n",
    "plt.title('Bike Sharing Daily')\n",
    "plt.xlabel('Days')\n",
    "plt.xlabel('Average Counts of Rental Bikes')\n",
    "plt.show()"
   ]
  },
  {
   "cell_type": "code",
   "execution_count": null,
   "id": "joined-alfred",
   "metadata": {},
   "outputs": [],
   "source": [
    "year_data = bikesharing_data.loc[bikesharing_data['yr'] == 1]\n",
    "\n",
    "year_data.head()"
   ]
  },
  {
   "cell_type": "code",
   "execution_count": null,
   "id": "floppy-antique",
   "metadata": {},
   "outputs": [],
   "source": [
    "month_df = year_data[['mnth', 'cnt']].groupby('mnth', as_index=False).mean()\n",
    "\n",
    "month_df"
   ]
  },
  {
   "cell_type": "code",
   "execution_count": null,
   "id": "sharp-supply",
   "metadata": {},
   "outputs": [],
   "source": [
    "month_df['mnth'].replace([1, 2, 3, 4, 5, 6,\n",
    "                          7, 8, 9, 10, 11, 12],\n",
    "                         ['Jan', 'Feb', 'Mar', 'Apr', 'May', 'Jun',\n",
    "                          'Jul', 'Aug', 'Sep', 'Oct', 'Nov', 'Dec'],\n",
    "                         inplace=True)\n",
    "month_df"
   ]
  },
  {
   "cell_type": "code",
   "execution_count": null,
   "id": "affecting-sessions",
   "metadata": {},
   "outputs": [],
   "source": [
    "colors = ['b', 'g', 'r', 'c', 'm', 'y', 'k', 'c']\n",
    "\n",
    "plt.figure(figsize=(12,8))\n",
    "\n",
    "plt.bar(month_df['mnth'],\n",
    "        month_df['cnt'],\n",
    "        color=colors)\n",
    "\n",
    "plt.title('Bike Sharing Monthly - 2012')\n",
    "plt.xlabel('Month')\n",
    "plt.ylabel('Average Count of Rental Bikes')\n",
    "\n",
    "plt.show()"
   ]
  },
  {
   "cell_type": "code",
   "execution_count": null,
   "id": "unsigned-import",
   "metadata": {},
   "outputs": [],
   "source": []
  }
 ],
 "metadata": {
  "kernelspec": {
   "display_name": "Python 3",
   "language": "python",
   "name": "python3"
  },
  "language_info": {
   "codemirror_mode": {
    "name": "ipython",
    "version": 3
   },
   "file_extension": ".py",
   "mimetype": "text/x-python",
   "name": "python",
   "nbconvert_exporter": "python",
   "pygments_lexer": "ipython3",
   "version": "3.8.5"
  }
 },
 "nbformat": 4,
 "nbformat_minor": 5
}
