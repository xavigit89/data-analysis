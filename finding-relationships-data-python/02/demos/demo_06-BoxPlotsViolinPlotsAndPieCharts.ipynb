{
 "cells": [
  {
   "cell_type": "code",
   "execution_count": null,
   "id": "boxed-maryland",
   "metadata": {},
   "outputs": [],
   "source": [
    "import pandas as pd\n",
    "import matplotlib.pyplot as plt\n",
    "\n",
    "# To be able to work with datetime data:\n",
    "from pandas.plotting import register_matplotlib_converters\n",
    "register_matplotlib_converters()"
   ]
  },
  {
   "cell_type": "code",
   "execution_count": null,
   "id": "passing-catalog",
   "metadata": {},
   "outputs": [],
   "source": [
    "bikesharing_data = pd.read_csv('datasets/bike_sharing_daily.csv', index_col=0)\n",
    "\n",
    "bikesharing_data.head(5)"
   ]
  },
  {
   "cell_type": "code",
   "execution_count": null,
   "id": "sustainable-final",
   "metadata": {},
   "outputs": [],
   "source": [
    "bikesharing_data['dteday'] = pd.DatetimeIndex(bikesharing_data['dteday'])"
   ]
  },
  {
   "cell_type": "code",
   "execution_count": null,
   "id": "expired-difference",
   "metadata": {},
   "outputs": [],
   "source": [
    "plt.figure(figsize=(12, 8))\n",
    "\n",
    "plt.boxplot(bikesharing_data['cnt'])\n",
    "\n",
    "plt.xticks([1], ['Rental Bikes'])\n",
    "plt.title('Bike Sharing Daily')\n",
    "plt.ylabel('Total Counts of Rental Bikes')\n",
    "\n",
    "plt.show()"
   ]
  },
  {
   "cell_type": "code",
   "execution_count": null,
   "id": "massive-sustainability",
   "metadata": {},
   "outputs": [],
   "source": [
    "selected_bike_data = bikesharing_data[['casual', 'registered']]\n",
    "\n",
    "selected_bike_data.head()"
   ]
  },
  {
   "cell_type": "code",
   "execution_count": null,
   "id": "scheduled-memorial",
   "metadata": {},
   "outputs": [],
   "source": [
    "columns = selected_bike_data.columns\n",
    "columns"
   ]
  },
  {
   "cell_type": "code",
   "execution_count": null,
   "id": "significant-indiana",
   "metadata": {},
   "outputs": [],
   "source": [
    "bike_data_array = selected_bike_data.values\n",
    "bike_data_array"
   ]
  },
  {
   "cell_type": "code",
   "execution_count": null,
   "id": "reverse-essence",
   "metadata": {},
   "outputs": [],
   "source": [
    "colors = ['g', 'm']\n",
    "\n",
    "plt.figure(figsize=(12, 8))\n",
    "\n",
    "bp = plt.boxplot(bike_data_array,\n",
    "                 patch_artist=True,\n",
    "                 labels=columns)\n",
    "\n",
    "for i in range(len(bp['boxes'])):\n",
    "    bp['boxes'][i].set(facecolor=colors[i])\n",
    "\n",
    "plt.title('Bike Sharing Users')\n",
    "plt.xlabel('Users')\n",
    "plt.ylabel('Count of Bike Rentals')\n",
    "\n",
    "plt.show()"
   ]
  },
  {
   "cell_type": "markdown",
   "id": "stable-affairs",
   "metadata": {},
   "source": [
    "## Violin Plots\n",
    "Shows probability density distribution curves along the central vertical line."
   ]
  },
  {
   "cell_type": "code",
   "execution_count": null,
   "id": "sought-variation",
   "metadata": {},
   "outputs": [],
   "source": [
    "plt.figure(figsize=(12, 8))\n",
    "\n",
    "vp = plt.violinplot(bike_data_array)\n",
    "\n",
    "plt.xticks([1, 2], columns)\n",
    "\n",
    "plt.title('Bike Sharing Users')\n",
    "plt.xlabel('Users')\n",
    "plt.ylabel('Count of Bike Rentals')\n",
    "\n",
    "plt.show()"
   ]
  },
  {
   "cell_type": "markdown",
   "id": "beneficial-armenia",
   "metadata": {},
   "source": [
    "## Pie Charts"
   ]
  },
  {
   "cell_type": "code",
   "execution_count": null,
   "id": "moderate-strength",
   "metadata": {},
   "outputs": [],
   "source": [
    "season_data = bikesharing_data[['season', 'cnt']]\n",
    "\n",
    "season_data.sample(5)"
   ]
  },
  {
   "cell_type": "code",
   "execution_count": null,
   "id": "forward-buddy",
   "metadata": {},
   "outputs": [],
   "source": [
    "grouped_data = season_data.groupby('season', as_index=False).sum()\n",
    "\n",
    "grouped_data.head()"
   ]
  },
  {
   "cell_type": "code",
   "execution_count": null,
   "id": "dying-walter",
   "metadata": {},
   "outputs": [],
   "source": [
    "grouped_data['season'].replace([1, 2, 3, 4],\n",
    "                               ['spring', 'summer', 'fall', 'winter'],\n",
    "                               inplace=True)\n",
    "\n",
    "grouped_data"
   ]
  },
  {
   "cell_type": "code",
   "execution_count": null,
   "id": "unknown-operation",
   "metadata": {},
   "outputs": [],
   "source": [
    "plt.figure(figsize=(12, 8))\n",
    "\n",
    "plt.pie(grouped_data['cnt'],\n",
    "        labels=grouped_data['season'],\n",
    "        autopct='%.1f',\n",
    "        # Add an edge to the pie sections\n",
    "        wedgeprops={'linewidth': 4, 'edgecolor': 'white'})\n",
    "\n",
    "plt.suptitle('Percentage count of Bike Rentals by Season')\n",
    "\n",
    "plt.show()"
   ]
  },
  {
   "cell_type": "code",
   "execution_count": null,
   "id": "weighted-intersection",
   "metadata": {},
   "outputs": [],
   "source": [
    "explode_max = (0, 0, 0.2, 0)\n",
    "\n",
    "explode_min = (0.2, 0, 0, 0)"
   ]
  },
  {
   "cell_type": "code",
   "execution_count": null,
   "id": "mediterranean-berkeley",
   "metadata": {},
   "outputs": [],
   "source": [
    "fig, (ax1, ax2) = plt.subplots(1, 2, figsize=(12, 6))\n",
    "\n",
    "wedges, texts, autotexts = ax1.pie(grouped_data['cnt'],\n",
    "                                   labels=grouped_data['season'],\n",
    "                                   autopct='%.1f',\n",
    "                                   explode=explode_max)\n",
    "wedges[2].set(edgecolor='k', linewidth=2)\n",
    "\n",
    "wedges, texts, autotexts = ax2.pie(grouped_data['cnt'],\n",
    "                                   labels=grouped_data['season'],\n",
    "                                   autopct='%.1f',\n",
    "                                   explode=explode_min)\n",
    "wedges[0].set(edgecolor='k', linewidth=2)\n",
    "\n",
    "plt.suptitle('Percentage count of Bike Rentals by Season')\n",
    "\n",
    "plt.show()"
   ]
  },
  {
   "cell_type": "code",
   "execution_count": null,
   "id": "equivalent-lighting",
   "metadata": {},
   "outputs": [],
   "source": []
  }
 ],
 "metadata": {
  "kernelspec": {
   "display_name": "Python 3",
   "language": "python",
   "name": "python3"
  },
  "language_info": {
   "codemirror_mode": {
    "name": "ipython",
    "version": 3
   },
   "file_extension": ".py",
   "mimetype": "text/x-python",
   "name": "python",
   "nbconvert_exporter": "python",
   "pygments_lexer": "ipython3",
   "version": "3.8.5"
  }
 },
 "nbformat": 4,
 "nbformat_minor": 5
}
