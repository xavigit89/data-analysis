{
 "cells": [
  {
   "cell_type": "code",
   "execution_count": null,
   "id": "dirty-syndicate",
   "metadata": {},
   "outputs": [],
   "source": [
    "import seaborn as sns\n",
    "import pandas as pd\n",
    "import matplotlib.pyplot as plt"
   ]
  },
  {
   "cell_type": "code",
   "execution_count": null,
   "id": "gorgeous-panama",
   "metadata": {},
   "outputs": [],
   "source": [
    "automobile_data = pd.read_csv('datasets/Automobile_data.csv',\n",
    "                              na_values='?')\n",
    "automobile_data.head(5)"
   ]
  },
  {
   "cell_type": "code",
   "execution_count": null,
   "id": "floppy-knitting",
   "metadata": {},
   "outputs": [],
   "source": [
    "automobile_data.shape"
   ]
  },
  {
   "cell_type": "code",
   "execution_count": null,
   "id": "homeless-chess",
   "metadata": {},
   "outputs": [],
   "source": [
    "automobile_data.isnull().sum()"
   ]
  },
  {
   "cell_type": "code",
   "execution_count": null,
   "id": "yellow-netherlands",
   "metadata": {},
   "outputs": [],
   "source": [
    "automobile_data.dropna(inplace=True)\n",
    "\n",
    "automobile_data.shape"
   ]
  },
  {
   "cell_type": "code",
   "execution_count": null,
   "id": "limiting-blues",
   "metadata": {},
   "outputs": [],
   "source": [
    "automobile_data.to_csv('datasets/automobile_data_processed.csv', index=False)"
   ]
  },
  {
   "cell_type": "markdown",
   "id": "destroyed-standard",
   "metadata": {},
   "source": [
    "# Single Variable Distribution Visualization\n",
    "## Histograms\n",
    "### Default"
   ]
  },
  {
   "cell_type": "code",
   "execution_count": null,
   "id": "seven-cancer",
   "metadata": {},
   "outputs": [],
   "source": [
    "plt.figure(figsize=(12, 8))\n",
    "\n",
    "# DEPRECATED!!!\n",
    "#sns.distplot(automobile_data['price'],\n",
    "#             color='red')\n",
    "sns.displot(automobile_data['price'],\n",
    "            color='red',\n",
    "            kde=True)\n",
    "\n",
    "plt.title('Automobile Data')\n",
    "\n",
    "plt.show()"
   ]
  },
  {
   "cell_type": "markdown",
   "id": "communist-touch",
   "metadata": {},
   "source": [
    "### Specify Bins"
   ]
  },
  {
   "cell_type": "code",
   "execution_count": null,
   "id": "popular-average",
   "metadata": {},
   "outputs": [],
   "source": [
    "plt.figure(figsize=(12, 8))\n",
    "\n",
    "# DEPRECATED!!!\n",
    "#sns.distplot(automobile_data['price'],\n",
    "#             color='red',\n",
    "#             bins=20)\n",
    "sns.displot(automobile_data['price'],\n",
    "            color='red',\n",
    "            kde=True,\n",
    "            bins=20)\n",
    "\n",
    "plt.title('Automobile Data')\n",
    "\n",
    "plt.show()"
   ]
  },
  {
   "cell_type": "markdown",
   "id": "hybrid-conservation",
   "metadata": {},
   "source": [
    "### No histogram"
   ]
  },
  {
   "cell_type": "code",
   "execution_count": null,
   "id": "processed-falls",
   "metadata": {},
   "outputs": [],
   "source": [
    "plt.figure(figsize=(12, 8))\n",
    "\n",
    "# DEPRECATED!!!\n",
    "#sns.distplot(automobile_data['price'],\n",
    "#             color='blue',\n",
    "#             hist=False)\n",
    "sns.displot(automobile_data['price'],\n",
    "            color='blue',\n",
    "            kind='kde')\n",
    "\n",
    "plt.title('Automobile Data')\n",
    "\n",
    "plt.show()"
   ]
  },
  {
   "cell_type": "markdown",
   "id": "champion-transparency",
   "metadata": {},
   "source": [
    "### Include rugs\n",
    "Visualize the individual data points as vertical lines."
   ]
  },
  {
   "cell_type": "code",
   "execution_count": null,
   "id": "lucky-tunisia",
   "metadata": {},
   "outputs": [],
   "source": [
    "plt.figure(figsize=(12, 8))\n",
    "\n",
    "# DEPRECATED!!!\n",
    "#sns.distplot(automobile_data['price'],\n",
    "#             color='blue',\n",
    "#             hist=False,\n",
    "#             rug=True)\n",
    "sns.displot(automobile_data['price'],\n",
    "            color='blue',\n",
    "            kind='kde',\n",
    "            rug=True)\n",
    "\n",
    "plt.title('Automobile Data')\n",
    "\n",
    "plt.show()"
   ]
  },
  {
   "cell_type": "markdown",
   "id": "incoming-chaos",
   "metadata": {},
   "source": [
    "## Rug Plots"
   ]
  },
  {
   "cell_type": "code",
   "execution_count": null,
   "id": "victorian-platinum",
   "metadata": {},
   "outputs": [],
   "source": [
    "plt.figure(figsize=(12, 8))\n",
    "\n",
    "sns.rugplot(automobile_data['price'],\n",
    "            height=0.5,\n",
    "            color='blue')\n",
    "\n",
    "plt.title('Automobile Data')\n",
    "\n",
    "plt.show()"
   ]
  },
  {
   "cell_type": "markdown",
   "id": "drawn-oxford",
   "metadata": {},
   "source": [
    "## KDE Plots"
   ]
  },
  {
   "cell_type": "code",
   "execution_count": null,
   "id": "printable-dryer",
   "metadata": {},
   "outputs": [],
   "source": [
    "plt.figure(figsize=(12, 8))\n",
    "\n",
    "sns.kdeplot(automobile_data['price'],\n",
    "            shade=True,\n",
    "            color='blue')\n",
    "\n",
    "plt.title('Automobile Data')\n",
    "\n",
    "plt.show()"
   ]
  },
  {
   "cell_type": "markdown",
   "id": "occupied-angola",
   "metadata": {},
   "source": [
    "# Bivariate Statistical Relationships Visualization\n",
    "## Scatter Plots\n",
    "### Default"
   ]
  },
  {
   "cell_type": "code",
   "execution_count": null,
   "id": "southeast-pricing",
   "metadata": {},
   "outputs": [],
   "source": [
    "plt.figure(figsize=(12, 8))\n",
    "\n",
    "sns.scatterplot(x='horsepower',\n",
    "                y='price',\n",
    "                data=automobile_data,\n",
    "                s=120)\n",
    "\n",
    "plt.title('Automobile Data')\n",
    "\n",
    "plt.show()"
   ]
  },
  {
   "cell_type": "markdown",
   "id": "inappropriate-polymer",
   "metadata": {},
   "source": [
    "### Color based on third column\n",
    "This effectively adds a dimension to the plot."
   ]
  },
  {
   "cell_type": "code",
   "execution_count": null,
   "id": "robust-timeline",
   "metadata": {},
   "outputs": [],
   "source": [
    "plt.figure(figsize=(12, 8))\n",
    "\n",
    "sns.scatterplot(x='horsepower',\n",
    "                y='price',\n",
    "                data=automobile_data,\n",
    "                hue='num-of-cylinders',\n",
    "                s=120)\n",
    "\n",
    "plt.title('Automobile Data')\n",
    "\n",
    "plt.show()"
   ]
  },
  {
   "cell_type": "markdown",
   "id": "generous-privilege",
   "metadata": {},
   "source": [
    "## Regression Plot\n",
    "Checks whether or not a linear relationship exists between the two variables."
   ]
  },
  {
   "cell_type": "code",
   "execution_count": null,
   "id": "dimensional-biodiversity",
   "metadata": {},
   "outputs": [],
   "source": [
    "sns.regplot(x='horsepower',\n",
    "            y='price',\n",
    "            data=automobile_data)\n",
    "\n",
    "plt.show()"
   ]
  },
  {
   "cell_type": "code",
   "execution_count": null,
   "id": "recovered-literature",
   "metadata": {},
   "outputs": [],
   "source": [
    "sns.regplot(x='highway-mpg',\n",
    "            y='price',\n",
    "            data=automobile_data)\n",
    "\n",
    "plt.show()"
   ]
  },
  {
   "cell_type": "markdown",
   "id": "political-boring",
   "metadata": {},
   "source": [
    "## Joint Plots\n",
    "Display the univariate distribution of each individual variable, as well as the bivariate relationship between the two."
   ]
  },
  {
   "cell_type": "code",
   "execution_count": null,
   "id": "brazilian-memphis",
   "metadata": {},
   "outputs": [],
   "source": [
    "sns.jointplot(x='horsepower',\n",
    "              y='price',\n",
    "              data=automobile_data)\n",
    "\n",
    "plt.show()"
   ]
  },
  {
   "cell_type": "markdown",
   "id": "continued-benjamin",
   "metadata": {},
   "source": [
    "### Include Regression Line"
   ]
  },
  {
   "cell_type": "code",
   "execution_count": null,
   "id": "protected-lambda",
   "metadata": {},
   "outputs": [],
   "source": [
    "sns.jointplot(x='horsepower',\n",
    "              y='price',\n",
    "              data=automobile_data,\n",
    "              kind='reg')\n",
    "\n",
    "plt.show()"
   ]
  },
  {
   "cell_type": "markdown",
   "id": "patient-arctic",
   "metadata": {},
   "source": [
    "### KDE Representation of the Bivariate Relationship"
   ]
  },
  {
   "cell_type": "code",
   "execution_count": null,
   "id": "alleged-scottish",
   "metadata": {},
   "outputs": [],
   "source": [
    "sns.jointplot(x='horsepower',\n",
    "              y='price',\n",
    "              data=automobile_data,\n",
    "              kind='kde')\n",
    "\n",
    "plt.show()"
   ]
  },
  {
   "cell_type": "code",
   "execution_count": null,
   "id": "removed-turner",
   "metadata": {
    "scrolled": true
   },
   "outputs": [],
   "source": [
    "sns.jointplot(x='horsepower',\n",
    "              y='price',\n",
    "              data=automobile_data,\n",
    "              kind='hex')\n",
    "\n",
    "plt.show()"
   ]
  },
  {
   "cell_type": "code",
   "execution_count": null,
   "id": "ecological-world",
   "metadata": {},
   "outputs": [],
   "source": [
    "f, ax = plt.subplots(figsize=(6,6))\n",
    "\n",
    "# DEPRECATED: use of vertical=True to control the orientation of the plot\n",
    "# sns.rugplot(automobile_data['price'], color='red', ax=ax)\n",
    "# Assign data to y keyword instead\n",
    "sns.kdeplot(automobile_data['horsepower'], y=automobile_data['price'], ax=ax)\n",
    "sns.rugplot(automobile_data['horsepower'], color='limegreen', ax=ax)\n",
    "sns.rugplot(y=automobile_data['price'], color='red', ax=ax)\n",
    "\n",
    "plt.title('Automobile Data')\n",
    "\n",
    "plt.show()"
   ]
  }
 ],
 "metadata": {
  "kernelspec": {
   "display_name": "Python 3",
   "language": "python",
   "name": "python3"
  },
  "language_info": {
   "codemirror_mode": {
    "name": "ipython",
    "version": 3
   },
   "file_extension": ".py",
   "mimetype": "text/x-python",
   "name": "python",
   "nbconvert_exporter": "python",
   "pygments_lexer": "ipython3",
   "version": "3.8.5"
  }
 },
 "nbformat": 4,
 "nbformat_minor": 5
}
