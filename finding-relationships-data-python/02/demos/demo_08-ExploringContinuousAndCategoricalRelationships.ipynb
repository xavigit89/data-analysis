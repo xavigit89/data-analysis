{
 "cells": [
  {
   "cell_type": "code",
   "execution_count": null,
   "id": "controlling-anthropology",
   "metadata": {},
   "outputs": [],
   "source": [
    "import seaborn as sns\n",
    "import pandas as pd\n",
    "import matplotlib.pyplot as plt"
   ]
  },
  {
   "cell_type": "code",
   "execution_count": null,
   "id": "faced-antigua",
   "metadata": {},
   "outputs": [],
   "source": [
    "tips_data = pd.read_csv('datasets/tips.csv')\n",
    "\n",
    "tips_data.sample(10)"
   ]
  },
  {
   "cell_type": "code",
   "execution_count": null,
   "id": "agricultural-taylor",
   "metadata": {},
   "outputs": [],
   "source": [
    "tips_data.shape"
   ]
  },
  {
   "cell_type": "code",
   "execution_count": null,
   "id": "plain-buffer",
   "metadata": {},
   "outputs": [],
   "source": [
    "tips_data.describe()"
   ]
  },
  {
   "cell_type": "code",
   "execution_count": null,
   "id": "proprietary-principal",
   "metadata": {},
   "outputs": [],
   "source": [
    "tips_data.groupby(by='time').mean()"
   ]
  },
  {
   "cell_type": "code",
   "execution_count": null,
   "id": "circular-transportation",
   "metadata": {},
   "outputs": [],
   "source": [
    "plt.figure(figsize=(12, 8))\n",
    "\n",
    "sns.barplot(x='time', y='total_bill', data=tips_data)\n",
    "\n",
    "plt.title('Bill and Tips')\n",
    "plt.xticks(rotation=90)\n",
    "\n",
    "plt.show()"
   ]
  },
  {
   "cell_type": "code",
   "execution_count": null,
   "id": "based-canadian",
   "metadata": {},
   "outputs": [],
   "source": [
    "mean = tips_data['tip'].mean()\n",
    "\n",
    "mean"
   ]
  },
  {
   "cell_type": "code",
   "execution_count": null,
   "id": "occupied-production",
   "metadata": {},
   "outputs": [],
   "source": [
    "tips_data['above_average'] = (tips_data['tip'] - mean > 0)\n",
    "\n",
    "tips_data[['tip', 'above_average']].head(5)"
   ]
  },
  {
   "cell_type": "code",
   "execution_count": null,
   "id": "eleven-chamber",
   "metadata": {},
   "outputs": [],
   "source": [
    "sns.countplot(x='time',\n",
    "              hue='above_average',\n",
    "              data=tips_data,\n",
    "              order=tips_data['time'].value_counts().index)\n",
    "\n",
    "plt.title('Bill and Tips')\n",
    "\n",
    "plt.show()"
   ]
  },
  {
   "cell_type": "code",
   "execution_count": null,
   "id": "spanish-yahoo",
   "metadata": {},
   "outputs": [],
   "source": [
    "plt.figure(figsize=(12, 8))\n",
    "\n",
    "sns.countplot(x='time',\n",
    "              hue='sex',\n",
    "              data=tips_data,\n",
    "              order=tips_data['time'].value_counts().index)\n",
    "\n",
    "plt.title('Bill and Tips')\n",
    "\n",
    "plt.show()"
   ]
  },
  {
   "cell_type": "code",
   "execution_count": null,
   "id": "dutch-fraction",
   "metadata": {},
   "outputs": [],
   "source": [
    "plt.figure(figsize=(12, 8))\n",
    "\n",
    "sns.boxplot(x='sex',\n",
    "            y='total_bill',\n",
    "            data=tips_data,\n",
    "            palette='nipy_spectral')\n",
    "\n",
    "plt.title('Bill and Tips')\n",
    "\n",
    "plt.plot()"
   ]
  },
  {
   "cell_type": "code",
   "execution_count": null,
   "id": "surrounded-resort",
   "metadata": {},
   "outputs": [],
   "source": [
    "plt.figure(figsize=(12, 8))\n",
    "\n",
    "sns.boxplot(x='size',\n",
    "            y='total_bill',\n",
    "            data=tips_data,\n",
    "            palette='nipy_spectral')\n",
    "\n",
    "plt.title('Bill and Tips')\n",
    "\n",
    "plt.plot()"
   ]
  },
  {
   "cell_type": "code",
   "execution_count": null,
   "id": "incident-equation",
   "metadata": {},
   "outputs": [],
   "source": [
    "sns.catplot(x='size',\n",
    "            y='total_bill',\n",
    "            hue='time',\n",
    "            data=tips_data,\n",
    "            kind='bar',\n",
    "            height=6,\n",
    "            aspect=2,\n",
    "            palette='CMRmap')\n",
    "\n",
    "plt.title('Bill and Tips')\n",
    "\n",
    "plt.show()"
   ]
  },
  {
   "cell_type": "code",
   "execution_count": null,
   "id": "transparent-minister",
   "metadata": {},
   "outputs": [],
   "source": [
    "plt.figure(figsize=(12, 8))\n",
    "\n",
    "sns.stripplot(x='size',\n",
    "              y='tip',\n",
    "              data=tips_data)\n",
    "\n",
    "plt.title('Bill and Tips')\n",
    "\n",
    "plt.plot()"
   ]
  },
  {
   "cell_type": "code",
   "execution_count": null,
   "id": "smart-contrary",
   "metadata": {},
   "outputs": [],
   "source": [
    "plt.figure(figsize=(12, 8))\n",
    "\n",
    "sns.swarmplot(x='size',\n",
    "              y='tip',\n",
    "              data=tips_data)\n",
    "\n",
    "plt.title('Bill and Tips')\n",
    "\n",
    "plt.plot()"
   ]
  },
  {
   "cell_type": "code",
   "execution_count": null,
   "id": "enclosed-raleigh",
   "metadata": {},
   "outputs": [],
   "source": [
    "plt.figure(figsize=(12, 8))\n",
    "\n",
    "sns.swarmplot(x='size',\n",
    "              y='total_bill',\n",
    "              data=tips_data,\n",
    "              hue='above_average')\n",
    "\n",
    "plt.title('Bill and Tips')\n",
    "\n",
    "plt.plot()"
   ]
  },
  {
   "cell_type": "code",
   "execution_count": null,
   "id": "regulation-inventory",
   "metadata": {},
   "outputs": [],
   "source": [
    "plt.figure(figsize=(12, 8))\n",
    "\n",
    "sns.swarmplot(x='size',\n",
    "              y='total_bill',\n",
    "              data=tips_data,\n",
    "              hue='above_average',\n",
    "              dodge=True)\n",
    "\n",
    "plt.title('Bill and Tips')\n",
    "\n",
    "plt.plot()"
   ]
  }
 ],
 "metadata": {
  "kernelspec": {
   "display_name": "Python 3",
   "language": "python",
   "name": "python3"
  },
  "language_info": {
   "codemirror_mode": {
    "name": "ipython",
    "version": 3
   },
   "file_extension": ".py",
   "mimetype": "text/x-python",
   "name": "python",
   "nbconvert_exporter": "python",
   "pygments_lexer": "ipython3",
   "version": "3.8.5"
  }
 },
 "nbformat": 4,
 "nbformat_minor": 5
}
