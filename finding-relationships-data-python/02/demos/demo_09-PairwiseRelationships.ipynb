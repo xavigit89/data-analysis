{
 "cells": [
  {
   "cell_type": "code",
   "execution_count": null,
   "id": "vertical-birmingham",
   "metadata": {},
   "outputs": [],
   "source": [
    "import pandas as pd\n",
    "import seaborn as sns\n",
    "import matplotlib.pyplot as plt"
   ]
  },
  {
   "cell_type": "code",
   "execution_count": null,
   "id": "norwegian-seattle",
   "metadata": {},
   "outputs": [],
   "source": [
    "automobile_data_processed = pd.read_csv('datasets/automobile_data_processed.csv')\n",
    "\n",
    "automobile_data_processed.sample(5)"
   ]
  },
  {
   "cell_type": "code",
   "execution_count": null,
   "id": "sensitive-tribute",
   "metadata": {},
   "outputs": [],
   "source": [
    "automobile_subset = automobile_data_processed[['horsepower', 'city-mpg',\n",
    "                                               'highway-mpg', 'price']]"
   ]
  },
  {
   "cell_type": "code",
   "execution_count": null,
   "id": "former-retailer",
   "metadata": {},
   "outputs": [],
   "source": [
    "sns.pairplot(automobile_subset)\n",
    "\n",
    "plt.show()"
   ]
  },
  {
   "cell_type": "code",
   "execution_count": null,
   "id": "similar-nepal",
   "metadata": {},
   "outputs": [],
   "source": [
    "sns.pairplot(automobile_data_processed,\n",
    "             vars=['price', 'horsepower', 'highway-mpg'])\n",
    "\n",
    "plt.show()"
   ]
  },
  {
   "cell_type": "code",
   "execution_count": null,
   "id": "parental-imagination",
   "metadata": {},
   "outputs": [],
   "source": [
    "sns.pairplot(automobile_data_processed,\n",
    "             vars=['price', 'horsepower', 'highway-mpg'],\n",
    "             hue='fuel-type')\n",
    "\n",
    "plt.show()"
   ]
  },
  {
   "cell_type": "code",
   "execution_count": null,
   "id": "intimate-briefs",
   "metadata": {},
   "outputs": [],
   "source": [
    "g = sns.PairGrid(automobile_data_processed,\n",
    "                 vars=['price', 'horsepower', 'highway-mpg'],\n",
    "                 hue='fuel-type')\n",
    "\n",
    "g.map(plt.scatter)\n",
    "g.add_legend()\n",
    "\n",
    "plt.show()"
   ]
  },
  {
   "cell_type": "code",
   "execution_count": null,
   "id": "dynamic-character",
   "metadata": {},
   "outputs": [],
   "source": [
    "g = sns.PairGrid(automobile_data_processed,\n",
    "                 vars=['price', 'horsepower', 'highway-mpg'],\n",
    "                 hue='fuel-type')\n",
    "\n",
    "g.map_diag(plt.hist)\n",
    "g.map_offdiag(plt.scatter)\n",
    "\n",
    "g.add_legend()\n",
    "\n",
    "plt.show()"
   ]
  },
  {
   "cell_type": "code",
   "execution_count": null,
   "id": "comparable-throw",
   "metadata": {},
   "outputs": [],
   "source": [
    "g = sns.PairGrid(automobile_data_processed,\n",
    "                 vars=['price', 'horsepower', 'highway-mpg'],\n",
    "                 hue='fuel-type')\n",
    "\n",
    "g.map_lower(plt.scatter)\n",
    "g.map_diag(sns.kdeplot, lw=3, legend=False)\n",
    "g.map_upper(sns.regplot)\n",
    "\n",
    "g.add_legend()\n",
    "\n",
    "plt.show()"
   ]
  },
  {
   "cell_type": "code",
   "execution_count": null,
   "id": "charming-dress",
   "metadata": {},
   "outputs": [],
   "source": [
    "automobile_corr = automobile_data_processed[['engine-size', 'horsepower',\n",
    "                                             'peak-rpm', 'city-mpg', 'highway-mpg', 'price']].corr()\n",
    "\n",
    "automobile_corr"
   ]
  },
  {
   "cell_type": "code",
   "execution_count": null,
   "id": "nominated-assets",
   "metadata": {},
   "outputs": [],
   "source": [
    "plt.figure(figsize=(12, 8))\n",
    "\n",
    "sns.heatmap(automobile_corr, vmax=.8, square=True,\n",
    "            annot=True, fmt='.2f', cmap='viridis')\n",
    "\n",
    "plt.title('Automobile Data')\n",
    "\n",
    "plt.show()"
   ]
  }
 ],
 "metadata": {
  "kernelspec": {
   "display_name": "Python 3",
   "language": "python",
   "name": "python3"
  },
  "language_info": {
   "codemirror_mode": {
    "name": "ipython",
    "version": 3
   },
   "file_extension": ".py",
   "mimetype": "text/x-python",
   "name": "python",
   "nbconvert_exporter": "python",
   "pygments_lexer": "ipython3",
   "version": "3.8.5"
  }
 },
 "nbformat": 4,
 "nbformat_minor": 5
}
