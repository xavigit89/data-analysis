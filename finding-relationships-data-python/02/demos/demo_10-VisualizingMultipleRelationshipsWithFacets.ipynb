{
 "cells": [
  {
   "cell_type": "code",
   "execution_count": null,
   "id": "caring-subcommittee",
   "metadata": {},
   "outputs": [],
   "source": [
    "import numpy as np\n",
    "import pandas as pd\n",
    "import seaborn as sns\n",
    "import matplotlib.pyplot as plt"
   ]
  },
  {
   "cell_type": "code",
   "execution_count": null,
   "id": "affected-layer",
   "metadata": {},
   "outputs": [],
   "source": [
    "automobile_data_processed = pd.read_csv('datasets/automobile_data_processed.csv')\n",
    "\n",
    "automobile_data_processed.sample(5)"
   ]
  },
  {
   "cell_type": "markdown",
   "id": "metric-worse",
   "metadata": {},
   "source": [
    "# Facet Grid\n",
    "## Univariate relationship"
   ]
  },
  {
   "cell_type": "code",
   "execution_count": null,
   "id": "still-tutorial",
   "metadata": {},
   "outputs": [],
   "source": [
    "plt.figure(figsize=(12, 8))\n",
    "\n",
    "fg = sns.FacetGrid(automobile_data_processed,\n",
    "                   col='fuel-type',\n",
    "                   height=7, aspect=1)\n",
    "\n",
    "fg.map(plt.hist, 'price', color='red')\n",
    "\n",
    "plt.show()"
   ]
  },
  {
   "cell_type": "markdown",
   "id": "expressed-overhead",
   "metadata": {},
   "source": [
    "## Bivariate relationship"
   ]
  },
  {
   "cell_type": "code",
   "execution_count": null,
   "id": "equivalent-mathematics",
   "metadata": {},
   "outputs": [],
   "source": [
    "plt.figure(figsize=(12, 8))\n",
    "\n",
    "fg = sns.FacetGrid(automobile_data_processed,\n",
    "                   col='fuel-type',\n",
    "                   height=7, aspect=1)\n",
    "\n",
    "fg.map(sns.scatterplot, 'highway-mpg', 'price', s=100)\n",
    "\n",
    "plt.show()"
   ]
  },
  {
   "cell_type": "code",
   "execution_count": null,
   "id": "material-legislature",
   "metadata": {},
   "outputs": [],
   "source": [
    "fg = sns.FacetGrid(automobile_data_processed,\n",
    "                   col='fuel-type',\n",
    "                   hue='num-of-cylinders',\n",
    "                   height=7, aspect=1)\n",
    "\n",
    "fg.map(sns.scatterplot, 'highway-mpg', 'price', s=100)\n",
    "\n",
    "fg.add_legend()"
   ]
  },
  {
   "cell_type": "code",
   "execution_count": null,
   "id": "ready-powder",
   "metadata": {},
   "outputs": [],
   "source": [
    "tips_data = pd.read_csv('datasets/tips.csv')\n",
    "\n",
    "tips_data.sample(10)"
   ]
  },
  {
   "cell_type": "code",
   "execution_count": null,
   "id": "understood-testing",
   "metadata": {},
   "outputs": [],
   "source": [
    "plt.figure(figsize=(15, 10))\n",
    "\n",
    "fg = sns.FacetGrid(tips_data,\n",
    "                   col='size',\n",
    "                   height=7, aspect=1)\n",
    "\n",
    "fg.map(plt.hist, 'total_bill', color='green')\n",
    "\n",
    "plt.show()"
   ]
  },
  {
   "cell_type": "code",
   "execution_count": null,
   "id": "pressing-composite",
   "metadata": {},
   "outputs": [],
   "source": [
    "group_size_values = np.sort(tips_data['size'].unique())"
   ]
  },
  {
   "cell_type": "code",
   "execution_count": null,
   "id": "hungry-result",
   "metadata": {},
   "outputs": [],
   "source": [
    "fg = sns.FacetGrid(tips_data,\n",
    "                   row='time', height=6, aspect=1)\n",
    "\n",
    "fg.map(sns.swarmplot,\n",
    "       'size',\n",
    "       'total_bill',\n",
    "       order=group_size_values)\n",
    "\n",
    "fg.add_legend()"
   ]
  },
  {
   "cell_type": "code",
   "execution_count": null,
   "id": "resistant-marketing",
   "metadata": {},
   "outputs": [],
   "source": [
    "fg = sns.FacetGrid(tips_data,\n",
    "                   col='time', height=6, aspect=1)\n",
    "\n",
    "fg.map(sns.swarmplot,\n",
    "       'size',\n",
    "       'total_bill',\n",
    "       order=group_size_values)\n",
    "\n",
    "fg.add_legend()\n"
   ]
  }
 ],
 "metadata": {
  "kernelspec": {
   "display_name": "Python 3",
   "language": "python",
   "name": "python3"
  },
  "language_info": {
   "codemirror_mode": {
    "name": "ipython",
    "version": 3
   },
   "file_extension": ".py",
   "mimetype": "text/x-python",
   "name": "python",
   "nbconvert_exporter": "python",
   "pygments_lexer": "ipython3",
   "version": "3.8.5"
  }
 },
 "nbformat": 4,
 "nbformat_minor": 5
}
