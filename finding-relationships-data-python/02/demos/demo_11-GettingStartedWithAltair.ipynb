{
 "cells": [
  {
   "cell_type": "code",
   "execution_count": null,
   "id": "fresh-forward",
   "metadata": {},
   "outputs": [],
   "source": [
    "import pandas as pd\n",
    "import altair as alt\n",
    "\n",
    "import vega\n",
    "from vega_datasets import data"
   ]
  },
  {
   "cell_type": "code",
   "execution_count": null,
   "id": "bridal-mambo",
   "metadata": {},
   "outputs": [],
   "source": [
    "alt.__version__"
   ]
  },
  {
   "cell_type": "code",
   "execution_count": null,
   "id": "collected-multiple",
   "metadata": {},
   "outputs": [],
   "source": [
    "vega.__version__"
   ]
  },
  {
   "cell_type": "code",
   "execution_count": null,
   "id": "therapeutic-marshall",
   "metadata": {},
   "outputs": [],
   "source": [
    "# For older Altair/Vega versions:\n",
    "# alt.renderers.enable('notebook')\n",
    "\n",
    "# Altair: 4.1.0+\n",
    "# Vega: 3.4.0+\n",
    "# https://stackoverflow.com/a/63711303\n",
    "alt.renderers.enable('default')"
   ]
  },
  {
   "cell_type": "code",
   "execution_count": null,
   "id": "discrete-gasoline",
   "metadata": {},
   "outputs": [],
   "source": [
    "print(data.list_datasets())"
   ]
  },
  {
   "cell_type": "code",
   "execution_count": null,
   "id": "fundamental-excuse",
   "metadata": {},
   "outputs": [],
   "source": [
    "data.unemployment_across_industries.url"
   ]
  },
  {
   "cell_type": "code",
   "execution_count": null,
   "id": "wooden-alberta",
   "metadata": {},
   "outputs": [],
   "source": [
    "unemployment_data = data.unemployment_across_industries()\n",
    "\n",
    "unemployment_data.head(5)"
   ]
  },
  {
   "cell_type": "code",
   "execution_count": null,
   "id": "transparent-great",
   "metadata": {},
   "outputs": [],
   "source": [
    "alt.Chart(unemployment_data, height=400, width=600) \\\n",
    "  .mark_point() \\\n",
    "  .encode(x='date',\n",
    "          y='count') \\\n",
    "  .properties(title='US Unemployment')"
   ]
  },
  {
   "cell_type": "code",
   "execution_count": null,
   "id": "latter-topic",
   "metadata": {},
   "outputs": [],
   "source": [
    "alt.Chart(unemployment_data, height=400, width=600) \\\n",
    "  .mark_point() \\\n",
    "  .encode(x='date',\n",
    "          y='count',\n",
    "          color='series') \\\n",
    "  .properties(title='US Unemployment')"
   ]
  },
  {
   "cell_type": "code",
   "execution_count": null,
   "id": "olive-eclipse",
   "metadata": {},
   "outputs": [],
   "source": [
    "alt.Chart(unemployment_data, height=400, width=600) \\\n",
    "  .mark_boxplot(extent=500) \\\n",
    "  .encode(x='year:O',\n",
    "          y='count:Q') \\\n",
    "  .properties(title='US Unemployment')"
   ]
  },
  {
   "cell_type": "code",
   "execution_count": null,
   "id": "dying-warren",
   "metadata": {},
   "outputs": [],
   "source": [
    "year_data = pd.DataFrame(unemployment_data.groupby('year', as_index=False)['count'].sum())\n",
    "\n",
    "year_data"
   ]
  },
  {
   "cell_type": "code",
   "execution_count": null,
   "id": "straight-christian",
   "metadata": {},
   "outputs": [],
   "source": [
    "alt.Chart(year_data, height=400, width=600) \\\n",
    "  .mark_bar(color='red', size=20) \\\n",
    "  .encode(x='year:O',\n",
    "          y='count:Q') \\\n",
    "  .properties(title='US Unemployment')"
   ]
  }
 ],
 "metadata": {
  "kernelspec": {
   "display_name": "Python 3",
   "language": "python",
   "name": "python3"
  },
  "language_info": {
   "codemirror_mode": {
    "name": "ipython",
    "version": 3
   },
   "file_extension": ".py",
   "mimetype": "text/x-python",
   "name": "python",
   "nbconvert_exporter": "python",
   "pygments_lexer": "ipython3",
   "version": "3.8.5"
  }
 },
 "nbformat": 4,
 "nbformat_minor": 5
}
