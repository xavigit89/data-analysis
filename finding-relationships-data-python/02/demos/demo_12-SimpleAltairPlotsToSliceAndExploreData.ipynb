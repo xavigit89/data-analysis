{
 "cells": [
  {
   "cell_type": "code",
   "execution_count": null,
   "id": "manufactured-welcome",
   "metadata": {},
   "outputs": [],
   "source": [
    "import pandas as pd\n",
    "import altair as alt\n",
    "from vega_datasets import data"
   ]
  },
  {
   "cell_type": "code",
   "execution_count": null,
   "id": "informed-strengthening",
   "metadata": {},
   "outputs": [],
   "source": [
    "alt.renderers.enable('default')"
   ]
  },
  {
   "cell_type": "code",
   "execution_count": null,
   "id": "boxed-collar",
   "metadata": {},
   "outputs": [],
   "source": [
    "movies_data = data.movies()\n",
    "\n",
    "movies_data.sample(5)"
   ]
  },
  {
   "cell_type": "code",
   "execution_count": null,
   "id": "cognitive-service",
   "metadata": {},
   "outputs": [],
   "source": [
    "movies_data.shape"
   ]
  },
  {
   "cell_type": "code",
   "execution_count": null,
   "id": "measured-suggestion",
   "metadata": {},
   "outputs": [],
   "source": [
    "movies_data.isnull().sum()"
   ]
  },
  {
   "cell_type": "code",
   "execution_count": null,
   "id": "acoustic-sleep",
   "metadata": {},
   "outputs": [],
   "source": [
    "movies_data.dropna(inplace=True)\n",
    "\n",
    "movies_data.shape"
   ]
  },
  {
   "cell_type": "code",
   "execution_count": null,
   "id": "sunrise-multiple",
   "metadata": {},
   "outputs": [],
   "source": [
    "alt.Chart(movies_data, height=400, width=600) \\\n",
    "  .mark_boxplot(color='blue') \\\n",
    "  .encode(y='Worldwide_Gross') \\\n",
    "  .properties(title='Movies')"
   ]
  },
  {
   "cell_type": "code",
   "execution_count": null,
   "id": "moderate-biography",
   "metadata": {},
   "outputs": [],
   "source": [
    "alt.Chart(movies_data, height=400, width=600) \\\n",
    "  .mark_point(color='darkcyan') \\\n",
    "  .encode(x='Production_Budget',\n",
    "          y='Worldwide_Gross') \\\n",
    "  .properties(title='Production_Budget vs Worldwide_Gross')"
   ]
  },
  {
   "cell_type": "code",
   "execution_count": null,
   "id": "noticed-ottawa",
   "metadata": {},
   "outputs": [],
   "source": [
    "alt.Chart(movies_data, height=400, width=600) \\\n",
    "  .mark_bar(size=20) \\\n",
    "  .encode(x='Major_Genre:O',\n",
    "          y='Worldwide_Gross:Q',\n",
    "          color='Major_Genre') \\\n",
    "  .properties(title='Worldwide Gross for different Genres')"
   ]
  },
  {
   "cell_type": "code",
   "execution_count": null,
   "id": "pregnant-separation",
   "metadata": {},
   "outputs": [],
   "source": [
    "med_rating = movies_data['Rotten_Tomatoes_Rating'].median()\n",
    "\n",
    "med_rating"
   ]
  },
  {
   "cell_type": "code",
   "execution_count": null,
   "id": "lightweight-maple",
   "metadata": {},
   "outputs": [],
   "source": [
    "movies_data['above_average'] = (movies_data['Rotten_Tomatoes_Rating'] - med_rating) > 0\n",
    "\n",
    "movies_data.head()"
   ]
  },
  {
   "cell_type": "code",
   "execution_count": null,
   "id": "fifth-vision",
   "metadata": {},
   "outputs": [],
   "source": [
    "alt.Chart(movies_data, height=400, width=600) \\\n",
    "  .mark_point(color='darkcyan') \\\n",
    "  .encode(x='Production_Budget',\n",
    "          y='Worldwide_Gross',\n",
    "          color='above_average') \\\n",
    "  .properties(title='Production_Budget vs Worldwide_Gross')"
   ]
  },
  {
   "cell_type": "code",
   "execution_count": null,
   "id": "published-speaking",
   "metadata": {},
   "outputs": [],
   "source": [
    "alt.Chart(movies_data, height=400, width=140) \\\n",
    "  .mark_bar() \\\n",
    "  .encode(x='above_average:O',\n",
    "          y='Worldwide_Gross:Q',\n",
    "          color='above_average:N',\n",
    "          column='MPAA_Rating:N') \\\n",
    "  .properties(title='Production_Budget vs Worldwide_Gross')"
   ]
  },
  {
   "cell_type": "code",
   "execution_count": null,
   "id": "underlying-danger",
   "metadata": {},
   "outputs": [],
   "source": [
    "alt.Chart(movies_data, height=400, width=600) \\\n",
    "  .mark_bar() \\\n",
    "  .encode(x='US_Gross',\n",
    "          y='MPAA_Rating',\n",
    "          color='MPAA_Rating',\n",
    "          order=alt.Order('MPAA_Rating',\n",
    "                          sort='ascending')) \\\n",
    "  .properties(title='US Gross vs MPAA Rating')"
   ]
  }
 ],
 "metadata": {
  "kernelspec": {
   "display_name": "Python 3",
   "language": "python",
   "name": "python3"
  },
  "language_info": {
   "codemirror_mode": {
    "name": "ipython",
    "version": 3
   },
   "file_extension": ".py",
   "mimetype": "text/x-python",
   "name": "python",
   "nbconvert_exporter": "python",
   "pygments_lexer": "ipython3",
   "version": "3.8.5"
  }
 },
 "nbformat": 4,
 "nbformat_minor": 5
}
