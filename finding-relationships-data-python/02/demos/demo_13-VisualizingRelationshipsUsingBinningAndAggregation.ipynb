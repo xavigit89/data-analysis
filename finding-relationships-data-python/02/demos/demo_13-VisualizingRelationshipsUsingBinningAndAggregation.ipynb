{
 "cells": [
  {
   "cell_type": "code",
   "execution_count": null,
   "id": "horizontal-canyon",
   "metadata": {},
   "outputs": [],
   "source": [
    "import pandas as pd\n",
    "import altair as alt\n",
    "from vega_datasets import data"
   ]
  },
  {
   "cell_type": "code",
   "execution_count": null,
   "id": "presidential-clear",
   "metadata": {},
   "outputs": [],
   "source": [
    "alt.renderers.enable('default')"
   ]
  },
  {
   "cell_type": "code",
   "execution_count": null,
   "id": "essential-telephone",
   "metadata": {},
   "outputs": [],
   "source": [
    "movies_data = data.movies()\n",
    "\n",
    "movies_data.sample(5)"
   ]
  },
  {
   "cell_type": "code",
   "execution_count": null,
   "id": "naked-calibration",
   "metadata": {},
   "outputs": [],
   "source": [
    "movies_data.dropna(inplace=True)"
   ]
  },
  {
   "cell_type": "code",
   "execution_count": null,
   "id": "conscious-alloy",
   "metadata": {},
   "outputs": [],
   "source": [
    "movies_data.shape"
   ]
  },
  {
   "cell_type": "code",
   "execution_count": null,
   "id": "demographic-burst",
   "metadata": {},
   "outputs": [],
   "source": [
    "alt.Chart(movies_data, height=400, width=600) \\\n",
    "  .mark_bar() \\\n",
    "  .encode(alt.X('IMDB_Rating', bin=True),\n",
    "          y='count()',\n",
    "          color='count()')"
   ]
  },
  {
   "cell_type": "code",
   "execution_count": null,
   "id": "overhead-situation",
   "metadata": {},
   "outputs": [],
   "source": [
    "alt.Chart(movies_data, height=400, width=600) \\\n",
    "  .mark_bar() \\\n",
    "  .encode(alt.X('Rotten_Tomatoes_Rating', bin=True),\n",
    "          y='count()',\n",
    "          color='count()')"
   ]
  },
  {
   "cell_type": "code",
   "execution_count": null,
   "id": "unavailable-climate",
   "metadata": {},
   "outputs": [],
   "source": [
    "alt.Chart(movies_data, height=400, width=600) \\\n",
    "  .mark_bar() \\\n",
    "  .encode(alt.X('Running_Time_min', bin=True),\n",
    "          alt.Y('IMDB_Rating', bin=True),\n",
    "          color='count()')"
   ]
  },
  {
   "cell_type": "code",
   "execution_count": null,
   "id": "fitting-waterproof",
   "metadata": {},
   "outputs": [],
   "source": [
    "alt.Chart(movies_data, height=400, width=600) \\\n",
    "  .mark_circle() \\\n",
    "  .encode(alt.X('Running_Time_min', bin=True),\n",
    "          alt.Y('IMDB_Rating', bin=True),\n",
    "          size='IMDB_Rating',\n",
    "          color='average(Rotten_Tomatoes_Rating)')"
   ]
  },
  {
   "cell_type": "code",
   "execution_count": null,
   "id": "historic-dynamics",
   "metadata": {},
   "outputs": [],
   "source": [
    "alt.Chart(movies_data, height=400, width=600) \\\n",
    "  .mark_rect() \\\n",
    "  .encode(alt.X('Production_Budget', bin=True),\n",
    "          alt.Y('Worldwide_Gross', bin=True),\n",
    "          color='average(Rotten_Tomatoes_Rating)')"
   ]
  }
 ],
 "metadata": {
  "kernelspec": {
   "display_name": "Python 3",
   "language": "python",
   "name": "python3"
  },
  "language_info": {
   "codemirror_mode": {
    "name": "ipython",
    "version": 3
   },
   "file_extension": ".py",
   "mimetype": "text/x-python",
   "name": "python",
   "nbconvert_exporter": "python",
   "pygments_lexer": "ipython3",
   "version": "3.8.5"
  }
 },
 "nbformat": 4,
 "nbformat_minor": 5
}
