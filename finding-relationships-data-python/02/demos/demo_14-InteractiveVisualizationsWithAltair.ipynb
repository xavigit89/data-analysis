{
 "cells": [
  {
   "cell_type": "code",
   "execution_count": null,
   "id": "fundamental-airport",
   "metadata": {},
   "outputs": [],
   "source": [
    "import pandas as pd\n",
    "import altair as alt\n",
    "from vega_datasets import data\n",
    "\n",
    "alt.renderers.enable('default')"
   ]
  },
  {
   "cell_type": "code",
   "execution_count": null,
   "id": "funny-directory",
   "metadata": {},
   "outputs": [],
   "source": [
    "weather_data = data.seattle_weather()\n",
    "\n",
    "weather_data.head(5)"
   ]
  },
  {
   "cell_type": "code",
   "execution_count": null,
   "id": "exempt-spectacular",
   "metadata": {},
   "outputs": [],
   "source": [
    "weather_data['year'] = weather_data['date'].dt.year\n",
    "weather_data['month'] = weather_data['date'].dt.month\n",
    "weather_data['day'] = weather_data['date'].dt.day\n",
    "\n",
    "weather_data.drop('date', axis=1, inplace=True)"
   ]
  },
  {
   "cell_type": "code",
   "execution_count": null,
   "id": "stuck-cover",
   "metadata": {},
   "outputs": [],
   "source": [
    "weather_data.head(10)"
   ]
  },
  {
   "cell_type": "code",
   "execution_count": null,
   "id": "imported-oxygen",
   "metadata": {},
   "outputs": [],
   "source": [
    "weather_data.describe()"
   ]
  },
  {
   "cell_type": "code",
   "execution_count": null,
   "id": "similar-laugh",
   "metadata": {},
   "outputs": [],
   "source": [
    "alt.Chart(weather_data, height=500, width=700) \\\n",
    "  .mark_point() \\\n",
    "  .encode(x='temp_max:Q',\n",
    "          y='wind:Q',\n",
    "          color='weather:N',\n",
    "          tooltip=['weather', 'temp_max']) \\\n",
    "  .interactive()"
   ]
  },
  {
   "cell_type": "code",
   "execution_count": null,
   "id": "based-company",
   "metadata": {
    "scrolled": true
   },
   "outputs": [],
   "source": [
    "brush = alt.selection(type='interval', encodings=['x'])\n",
    "\n",
    "bars = alt.Chart(height=400, width=600) \\\n",
    "          .mark_bar(color='limegreen') \\\n",
    "          .encode(x='month:O',\n",
    "                  y='mean(temp_max):Q',\n",
    "                  opacity=alt.condition(brush,\n",
    "                                        alt.OpacityValue(1),\n",
    "                                        alt.OpacityValue(0.5))) \\\n",
    "          .add_selection(brush)\n",
    "\n",
    "line = alt.Chart() \\\n",
    "          .mark_rule(color='red') \\\n",
    "          .encode(y='mean(temp_max):Q',\n",
    "                  size=alt.SizeValue(5)) \\\n",
    "          .transform_filter(brush)\n",
    "\n",
    "alt.layer(bars, line, data=weather_data)"
   ]
  },
  {
   "cell_type": "code",
   "execution_count": null,
   "id": "scientific-riverside",
   "metadata": {},
   "outputs": [],
   "source": [
    "chart = alt.Chart(weather_data, height=400, width=600) \\\n",
    "           .mark_point() \\\n",
    "           .encode(y='wind:Q',\n",
    "                   color=alt.condition(brush,\n",
    "                                       'weather:N',\n",
    "                                       alt.value('lightgray'))) \\\n",
    "           .properties(width=250, height=250) \\\n",
    "           .add_selection(brush)\n",
    "\n",
    "chart.encode(x='precipitation:Q') | chart.encode(x='temp_max:Q')"
   ]
  },
  {
   "cell_type": "code",
   "execution_count": null,
   "id": "becoming-jordan",
   "metadata": {},
   "outputs": [],
   "source": [
    "slider = alt.binding_range(min=2012, max=2015, step=1)\n",
    "\n",
    "select_year = alt.selection_single(name='year', fields=['year'],\n",
    "                                   bind=slider, init={'year': 2012})\n",
    "\n",
    "color = alt.Scale(domain=('drizzle', 'rain', 'sun', 'snow', 'fog'),\n",
    "                  range=['steelblue', 'yellow', 'red', 'green', 'violet'])"
   ]
  },
  {
   "cell_type": "code",
   "execution_count": null,
   "id": "breathing-developer",
   "metadata": {},
   "outputs": [],
   "source": [
    "alt.Chart(weather_data, height=400, width=600) \\\n",
    "   .mark_bar() \\\n",
    "   .encode(x=alt.X('weather:N', title=None),\n",
    "           y=alt.Y('temp_max:Q',\n",
    "                   scale=alt.Scale(domain=(0, 40))),\n",
    "           color=alt.Color('weather:N', scale=color),\n",
    "           column='month:O', tooltip=['precipitation']) \\\n",
    "   .properties(width=50) \\\n",
    "   .add_selection(select_year) \\\n",
    "   .transform_filter(select_year) \\\n",
    "   .configure_facet(spacing=8)"
   ]
  },
  {
   "cell_type": "code",
   "execution_count": null,
   "id": "logical-simon",
   "metadata": {},
   "outputs": [],
   "source": [
    "alt.Chart(weather_data, height=400, width=600) \\\n",
    "   .mark_bar() \\\n",
    "   .encode(x=alt.X('weather:N', title=None),\n",
    "           y=alt.Y('temp_max:Q',\n",
    "                   scale=alt.Scale(domain=(0, 40))),\n",
    "           color=alt.Color('weather:N', scale=color),\n",
    "           column='month:O', tooltip=['precipitation'],\n",
    "           row='year:O') \\\n",
    "   .properties(width=50) \\\n",
    "   .configure_facet(spacing=8)"
   ]
  }
 ],
 "metadata": {
  "kernelspec": {
   "display_name": "Python 3",
   "language": "python",
   "name": "python3"
  },
  "language_info": {
   "codemirror_mode": {
    "name": "ipython",
    "version": 3
   },
   "file_extension": ".py",
   "mimetype": "text/x-python",
   "name": "python",
   "nbconvert_exporter": "python",
   "pygments_lexer": "ipython3",
   "version": "3.8.5"
  }
 },
 "nbformat": 4,
 "nbformat_minor": 5
}
