{
 "cells": [
  {
   "cell_type": "code",
   "execution_count": null,
   "id": "advance-hanging",
   "metadata": {},
   "outputs": [],
   "source": [
    "import plotly\n",
    "\n",
    "plotly.__version__"
   ]
  },
  {
   "cell_type": "code",
   "execution_count": null,
   "id": "answering-boost",
   "metadata": {},
   "outputs": [],
   "source": [
    "import pandas as pd\n",
    "import plotly.graph_objs as go\n",
    "import plotly.offline as offline\n",
    "\n",
    "offline.init_notebook_mode(connected=True)"
   ]
  },
  {
   "cell_type": "code",
   "execution_count": null,
   "id": "responsible-welding",
   "metadata": {},
   "outputs": [],
   "source": [
    "nifty_data = pd.read_csv('datasets/NSEI.csv')\n",
    "\n",
    "nifty_data.head()"
   ]
  },
  {
   "cell_type": "code",
   "execution_count": null,
   "id": "appreciated-legend",
   "metadata": {},
   "outputs": [],
   "source": [
    "nifty_data.shape"
   ]
  },
  {
   "cell_type": "code",
   "execution_count": null,
   "id": "restricted-linux",
   "metadata": {},
   "outputs": [],
   "source": [
    "nifty_data['Date'] = pd.to_datetime(nifty_data['Date'])\n",
    "\n",
    "nifty_data.drop(['Adj Close', 'Volume'], axis=1, inplace=True)"
   ]
  },
  {
   "cell_type": "code",
   "execution_count": null,
   "id": "outdoor-shopper",
   "metadata": {},
   "outputs": [],
   "source": [
    "nifty_data.isnull().sum()"
   ]
  },
  {
   "cell_type": "code",
   "execution_count": null,
   "id": "breathing-methodology",
   "metadata": {},
   "outputs": [],
   "source": [
    "nifty_data = nifty_data.dropna(how='any', axis=0)\n",
    "\n",
    "nifty_data.shape"
   ]
  },
  {
   "cell_type": "code",
   "execution_count": null,
   "id": "persistent-suicide",
   "metadata": {},
   "outputs": [],
   "source": [
    "trace = go.Scatter(x=nifty_data['Date'],\n",
    "                   y=nifty_data['Close'],\n",
    "                   mode='markers',\n",
    "                   marker=dict(size=7,\n",
    "                               color=nifty_data['Close'],\n",
    "                               colorscale='Rainbow',\n",
    "                               showscale=True,\n",
    "                               opacity=0.5),\n",
    "                  text=nifty_data['Close'])"
   ]
  },
  {
   "cell_type": "code",
   "execution_count": null,
   "id": "indian-macro",
   "metadata": {},
   "outputs": [],
   "source": [
    "data = [trace]\n",
    "\n",
    "layout = go.Layout(title='Stocks',\n",
    "                   hovermode='closest',\n",
    "                   xaxis=dict(title='Date'),\n",
    "                   yaxis=dict(title='Close'))"
   ]
  },
  {
   "cell_type": "code",
   "execution_count": null,
   "id": "invisible-disposition",
   "metadata": {},
   "outputs": [],
   "source": [
    "fig = go.Figure(data=data,\n",
    "                layout=layout)"
   ]
  },
  {
   "cell_type": "code",
   "execution_count": null,
   "id": "blessed-finding",
   "metadata": {},
   "outputs": [],
   "source": [
    "offline.iplot(fig)"
   ]
  },
  {
   "cell_type": "code",
   "execution_count": null,
   "id": "alert-appearance",
   "metadata": {},
   "outputs": [],
   "source": [
    "nifty_data['Month'] = nifty_data['Date'].dt.month\n",
    "\n",
    "nifty_data.head()"
   ]
  },
  {
   "cell_type": "code",
   "execution_count": null,
   "id": "treated-arrest",
   "metadata": {},
   "outputs": [],
   "source": [
    "trace = go.Box(x=nifty_data['Month'],\n",
    "               y=nifty_data['Close'])\n",
    "\n",
    "data = [trace]\n",
    "\n",
    "offline.iplot(data)"
   ]
  },
  {
   "cell_type": "code",
   "execution_count": null,
   "id": "disturbed-publicity",
   "metadata": {},
   "outputs": [],
   "source": [
    "trace = go.Candlestick(x=nifty_data.Date,\n",
    "                       open=nifty_data.Open,\n",
    "                       high=nifty_data.High,\n",
    "                       low=nifty_data.Low,\n",
    "                       close=nifty_data.Close)\n",
    "\n",
    "data = [trace]\n",
    "\n",
    "layout = go.Layout(title='Stocks',\n",
    "                   hovermode='closest',\n",
    "                   xaxis=dict(title='Date'),\n",
    "                   yaxis=dict(title='Close'))\n",
    "\n",
    "fig = go.Figure(data=data,\n",
    "                layout=layout)\n",
    "\n",
    "offline.iplot(fig)"
   ]
  }
 ],
 "metadata": {
  "kernelspec": {
   "display_name": "Python 3",
   "language": "python",
   "name": "python3"
  },
  "language_info": {
   "codemirror_mode": {
    "name": "ipython",
    "version": 3
   },
   "file_extension": ".py",
   "mimetype": "text/x-python",
   "name": "python",
   "nbconvert_exporter": "python",
   "pygments_lexer": "ipython3",
   "version": "3.8.5"
  }
 },
 "nbformat": 4,
 "nbformat_minor": 5
}
