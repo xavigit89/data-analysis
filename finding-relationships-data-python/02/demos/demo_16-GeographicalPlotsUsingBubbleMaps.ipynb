{
 "cells": [
  {
   "cell_type": "code",
   "execution_count": null,
   "id": "floppy-brake",
   "metadata": {},
   "outputs": [],
   "source": [
    "import pandas as pd\n",
    "import plotly.graph_objs as go\n",
    "import plotly.offline as offline\n",
    "\n",
    "offline.init_notebook_mode(connected=True)"
   ]
  },
  {
   "cell_type": "code",
   "execution_count": null,
   "id": "collected-shanghai",
   "metadata": {},
   "outputs": [],
   "source": [
    "trace = dict(type='scattergeo',\n",
    "             lon=[-87.6, -117.1, -120.74, 0],\n",
    "             lat=[41.8, 32.7, 47.75, 0],\n",
    "             marker=dict(size=10),\n",
    "             mode='markers')\n",
    "\n",
    "data = [trace]\n",
    "\n",
    "layout = dict(showlegend=False,\n",
    "              geo=dict(showland=True))\n",
    "\n",
    "fig = dict(data=data,\n",
    "           layout=layout)\n",
    "\n",
    "offline.iplot(fig)"
   ]
  },
  {
   "cell_type": "code",
   "execution_count": null,
   "id": "mental-toolbox",
   "metadata": {},
   "outputs": [],
   "source": [
    "parks_data = pd.read_csv('datasets/parks.csv')\n",
    "\n",
    "parks_data.head(5)"
   ]
  },
  {
   "cell_type": "code",
   "execution_count": null,
   "id": "canadian-heavy",
   "metadata": {},
   "outputs": [],
   "source": [
    "trace = dict(type='scattergeo',             \n",
    "             lat=parks_data['Latitude'],\n",
    "             lon=parks_data['Longitude'],\n",
    "             text=parks_data['Park Name'],\n",
    "             marker=dict(size=parks_data['Acres']/10000,\n",
    "                         sizemode='area',\n",
    "                         color=parks_data['Acres'],\n",
    "                         showscale=True),\n",
    "             mode='markers')"
   ]
  },
  {
   "cell_type": "code",
   "execution_count": null,
   "id": "german-boards",
   "metadata": {},
   "outputs": [],
   "source": [
    "data = [trace]\n",
    "\n",
    "layout = dict(title='National Parks',\n",
    "              showlegend=False,\n",
    "              geo=dict(showland=True,\n",
    "                       landcolor='skyblue'))"
   ]
  },
  {
   "cell_type": "code",
   "execution_count": null,
   "id": "legendary-prisoner",
   "metadata": {},
   "outputs": [],
   "source": [
    "fig = dict(data=data,\n",
    "           layout=layout)\n",
    "\n",
    "offline.iplot(fig)"
   ]
  }
 ],
 "metadata": {
  "kernelspec": {
   "display_name": "Python 3",
   "language": "python",
   "name": "python3"
  },
  "language_info": {
   "codemirror_mode": {
    "name": "ipython",
    "version": 3
   },
   "file_extension": ".py",
   "mimetype": "text/x-python",
   "name": "python",
   "nbconvert_exporter": "python",
   "pygments_lexer": "ipython3",
   "version": "3.8.5"
  }
 },
 "nbformat": 4,
 "nbformat_minor": 5
}
